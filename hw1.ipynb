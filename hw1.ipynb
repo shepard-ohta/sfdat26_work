{
 "cells": [
  {
   "cell_type": "code",
   "execution_count": 1,
   "metadata": {
    "collapsed": true
   },
   "outputs": [],
   "source": [
    "import pandas as pd\n",
    "import datetime as dt\n",
    "import matplotlib.pyplot as plt\n",
    "%matplotlib inline\n",
    "# pd.set_option('max_colwidth', 50)\n",
    "# set this if you need to"
   ]
  },
  {
   "cell_type": "markdown",
   "metadata": {},
   "source": [
    "The Health Department has developed an inspection report and scoring system. \n",
    "After conducting an inspection of the facility, the Health Inspector calculates a score based on the violations observed. \n",
    "Violations can fall into:\n",
    "- **high risk category**: records specific violations that directly relate to the transmission of food borne illnesses,the adulteration of food products and the contamination of food-contact surfaces.\n",
    "- **moderate risk category**: records specific violations that are of a moderate risk to the public health and safety.\n",
    "- **low risk category**: records violations that are low risk or have no immediate risk to the public health and safety."
   ]
  },
  {
   "cell_type": "code",
   "execution_count": 2,
   "metadata": {
    "collapsed": false
   },
   "outputs": [
    {
     "name": "stdout",
     "output_type": "stream",
     "text": [
      "   business_id                                name  \\\n",
      "0           10                    Tiramisu Kitchen   \n",
      "1           19               Nrgize Lifestyle Cafe   \n",
      "2           24  OMNI S.F. Hotel - 2nd Floor Pantry   \n",
      "3           31      Norman's Ice Cream and Freezes   \n",
      "4           45                 CHARLIE'S DELI CAFE   \n",
      "\n",
      "                         address           city postal_code   latitude  \\\n",
      "0                  033 Belden Pl  San Francisco       94104  37.791116   \n",
      "1   1200 Van Ness Ave, 3rd Floor  San Francisco       94109  37.786848   \n",
      "2  500 California St, 2nd  Floor  San Francisco       94104  37.792888   \n",
      "3           2801 Leavenworth St   San Francisco       94133  37.807155   \n",
      "4                3202 FOLSOM St            S.F.       94110  37.747114   \n",
      "\n",
      "    longitude phone_number TaxCode  business_certificate application_date  \\\n",
      "0 -122.403816          NaN     H24              779059.0              NaN   \n",
      "1 -122.421547          NaN     H24                   NaN              NaN   \n",
      "2 -122.403135          NaN     H24              352312.0              NaN   \n",
      "3 -122.419004          NaN     H24              346882.0              NaN   \n",
      "4 -122.413641          NaN     H24              340024.0       10/10/2001   \n",
      "\n",
      "                      owner_name                 owner_address     owner_city  \\\n",
      "0                   Tiramisu LLC                  33 Belden St  San Francisco   \n",
      "1            24 Hour Fitness Inc  1200 Van Ness Ave, 3rd Floor  San Francisco   \n",
      "2  OMNI San Francisco Hotel Corp  500 California St, 2nd Floor  San Francisco   \n",
      "3               Norman Antiforda           2801 Leavenworth St  San Francisco   \n",
      "4      HARB, CHARLES AND KRISTIN                  1150 SANCHEZ           S.F.   \n",
      "\n",
      "  owner_state owner_zip  \n",
      "0          CA     94104  \n",
      "1          CA     94109  \n",
      "2          CA     94104  \n",
      "3          CA     94133  \n",
      "4          CA     94114  \n",
      "<class 'pandas.core.frame.DataFrame'>\n",
      "RangeIndex: 7544 entries, 0 to 7543\n",
      "Data columns (total 16 columns):\n",
      "business_id             7544 non-null int64\n",
      "name                    7542 non-null object\n",
      "address                 7544 non-null object\n",
      "city                    5778 non-null object\n",
      "postal_code             7248 non-null object\n",
      "latitude                4622 non-null float64\n",
      "longitude               4622 non-null float64\n",
      "phone_number            2173 non-null object\n",
      "TaxCode                 7536 non-null object\n",
      "business_certificate    6325 non-null float64\n",
      "application_date        5635 non-null object\n",
      "owner_name              7536 non-null object\n",
      "owner_address           7522 non-null object\n",
      "owner_city              7506 non-null object\n",
      "owner_state             7507 non-null object\n",
      "owner_zip               7480 non-null object\n",
      "dtypes: float64(3), int64(1), object(12)\n",
      "memory usage: 943.1+ KB\n",
      "None\n",
      "        business_id     latitude    longitude  business_certificate\n",
      "count   7544.000000  4622.000000  4622.000000          6.325000e+03\n",
      "mean   45598.628314    37.643185  -122.001268          4.993254e+05\n",
      "std    33127.061603     2.218984     7.191391          2.740166e+05\n",
      "min       10.000000     0.000000  -122.510896          6.710000e+02\n",
      "25%     6051.250000          NaN          NaN                   NaN\n",
      "50%    62572.500000          NaN          NaN                   NaN\n",
      "75%    76842.500000          NaN          NaN                   NaN\n",
      "max    87213.000000    37.875937     0.000000          7.451600e+06\n"
     ]
    },
    {
     "name": "stderr",
     "output_type": "stream",
     "text": [
      "/Users/tshepa/anaconda/lib/python2.7/site-packages/numpy/lib/function_base.py:3834: RuntimeWarning: Invalid value encountered in percentile\n",
      "  RuntimeWarning)\n"
     ]
    }
   ],
   "source": [
    "businesses = pd.read_csv('./data/businesses_plus.csv', parse_dates=True, dtype={'phone_number': str})\n",
    "print businesses.head()\n",
    "print businesses.info()\n",
    "print businesses.describe()\n",
    "# dtype casts the column as a specific data type"
   ]
  },
  {
   "cell_type": "code",
   "execution_count": 3,
   "metadata": {
    "collapsed": false
   },
   "outputs": [
    {
     "data": {
      "text/plain": [
       "pandas.core.series.Series"
      ]
     },
     "execution_count": 3,
     "metadata": {},
     "output_type": "execute_result"
    }
   ],
   "source": [
    "type(businesses.phone_number)"
   ]
  },
  {
   "cell_type": "code",
   "execution_count": 4,
   "metadata": {
    "collapsed": false
   },
   "outputs": [
    {
     "name": "stdout",
     "output_type": "stream",
     "text": [
      "   business_id  Score      date                   type\n",
      "0           10    NaN  20140807  Reinspection/Followup\n",
      "1           10   94.0  20140729  Routine - Unscheduled\n",
      "2           10    NaN  20140124  Reinspection/Followup\n",
      "3           10   92.0  20140114  Routine - Unscheduled\n",
      "4           19   94.0  20141110  Routine - Unscheduled\n",
      "<class 'pandas.core.frame.DataFrame'>\n",
      "RangeIndex: 27285 entries, 0 to 27284\n",
      "Data columns (total 4 columns):\n",
      "business_id    27285 non-null int64\n",
      "Score          15263 non-null float64\n",
      "date           27285 non-null int64\n",
      "type           27285 non-null object\n",
      "dtypes: float64(1), int64(2), object(1)\n",
      "memory usage: 852.7+ KB\n",
      "None\n",
      "        business_id         Score          date\n",
      "count  27285.000000  15263.000000  2.728500e+04\n",
      "mean   42194.754444     91.424949  2.014230e+07\n",
      "std    32661.009655      8.068309  8.907601e+03\n",
      "min       10.000000     42.000000  2.013041e+07\n",
      "25%     5025.000000           NaN  2.013121e+07\n",
      "50%    59065.000000           NaN  2.014071e+07\n",
      "75%    72136.000000           NaN  2.015043e+07\n",
      "max    87122.000000    100.000000  2.016122e+07\n"
     ]
    }
   ],
   "source": [
    "inspections = pd.read_csv('./data/inspections_plus.csv', parse_dates=True)\n",
    "print inspections.head()\n",
    "print inspections.info()\n",
    "print inspections.describe()"
   ]
  },
  {
   "cell_type": "code",
   "execution_count": 5,
   "metadata": {
    "collapsed": false
   },
   "outputs": [
    {
     "data": {
      "text/plain": [
       "pandas.core.series.Series"
      ]
     },
     "execution_count": 5,
     "metadata": {},
     "output_type": "execute_result"
    }
   ],
   "source": [
    "type(inspections.date)"
   ]
  },
  {
   "cell_type": "code",
   "execution_count": 6,
   "metadata": {
    "collapsed": false
   },
   "outputs": [
    {
     "name": "stdout",
     "output_type": "stream",
     "text": [
      "   business_id      date  ViolationTypeID  risk_category  \\\n",
      "0           10  20140114           103154       Low Risk   \n",
      "1           10  20140114           103119  Moderate Risk   \n",
      "2           10  20140114           103145       Low Risk   \n",
      "3           10  20140729           103129  Moderate Risk   \n",
      "4           10  20140729           103144       Low Risk   \n",
      "\n",
      "                                         description  \n",
      "0       Unclean or degraded floors walls or ceilings  \n",
      "1  Inadequate and inaccessible handwashing facili...  \n",
      "2   Improper storage of equipment utensils or linens  \n",
      "3            Insufficient hot water or running water  \n",
      "4   Unapproved or unmaintained equipment or utensils  \n",
      "<class 'pandas.core.frame.DataFrame'>\n",
      "RangeIndex: 39720 entries, 0 to 39719\n",
      "Data columns (total 5 columns):\n",
      "business_id        39720 non-null int64\n",
      "date               39720 non-null int64\n",
      "ViolationTypeID    39720 non-null int64\n",
      "risk_category      39710 non-null object\n",
      "description        39710 non-null object\n",
      "dtypes: int64(3), object(2)\n",
      "memory usage: 1.5+ MB\n",
      "None\n",
      "        business_id          date  ViolationTypeID\n",
      "count  39720.000000  3.972000e+04     39720.000000\n",
      "mean   37312.545871  2.014214e+07    103134.340483\n",
      "std    31485.673651  9.072873e+03        16.721454\n",
      "min       10.000000  2.013041e+07    103101.000000\n",
      "25%     3729.000000  2.013120e+07    103120.000000\n",
      "50%    35464.000000  2.014062e+07    103139.000000\n",
      "75%    68764.000000  2.015042e+07    103149.000000\n",
      "max    86845.000000  2.016040e+07    103178.000000\n"
     ]
    }
   ],
   "source": [
    "violations = pd.read_csv('./data/violations_plus.csv', parse_dates=True)\n",
    "print violations.head()\n",
    "print violations.info()\n",
    "print violations.describe()"
   ]
  },
  {
   "cell_type": "code",
   "execution_count": 7,
   "metadata": {
    "collapsed": false
   },
   "outputs": [],
   "source": [
    "# 1 Combine the three dataframes into one data frame called restaurant_scores\n",
    "# Hint: http://pandas.pydata.org/pandas-docs/stable/merging.html\n",
    "\n"
   ]
  },
  {
   "cell_type": "code",
   "execution_count": 8,
   "metadata": {
    "collapsed": false
   },
   "outputs": [
    {
     "data": {
      "text/html": [
       "<div>\n",
       "<table border=\"1\" class=\"dataframe\">\n",
       "  <thead>\n",
       "    <tr style=\"text-align: right;\">\n",
       "      <th></th>\n",
       "      <th>business_id</th>\n",
       "      <th>Score</th>\n",
       "      <th>date</th>\n",
       "      <th>type</th>\n",
       "      <th>name</th>\n",
       "      <th>address</th>\n",
       "      <th>city</th>\n",
       "      <th>postal_code</th>\n",
       "      <th>latitude</th>\n",
       "      <th>longitude</th>\n",
       "      <th>phone_number</th>\n",
       "      <th>TaxCode</th>\n",
       "      <th>business_certificate</th>\n",
       "      <th>application_date</th>\n",
       "      <th>owner_name</th>\n",
       "      <th>owner_address</th>\n",
       "      <th>owner_city</th>\n",
       "      <th>owner_state</th>\n",
       "      <th>owner_zip</th>\n",
       "    </tr>\n",
       "  </thead>\n",
       "  <tbody>\n",
       "    <tr>\n",
       "      <th>0</th>\n",
       "      <td>10</td>\n",
       "      <td>NaN</td>\n",
       "      <td>20140807</td>\n",
       "      <td>Reinspection/Followup</td>\n",
       "      <td>Tiramisu Kitchen</td>\n",
       "      <td>033 Belden Pl</td>\n",
       "      <td>San Francisco</td>\n",
       "      <td>94104</td>\n",
       "      <td>37.791116</td>\n",
       "      <td>-122.403816</td>\n",
       "      <td>NaN</td>\n",
       "      <td>H24</td>\n",
       "      <td>779059.0</td>\n",
       "      <td>NaN</td>\n",
       "      <td>Tiramisu LLC</td>\n",
       "      <td>33 Belden St</td>\n",
       "      <td>San Francisco</td>\n",
       "      <td>CA</td>\n",
       "      <td>94104</td>\n",
       "    </tr>\n",
       "    <tr>\n",
       "      <th>1</th>\n",
       "      <td>10</td>\n",
       "      <td>94.0</td>\n",
       "      <td>20140729</td>\n",
       "      <td>Routine - Unscheduled</td>\n",
       "      <td>Tiramisu Kitchen</td>\n",
       "      <td>033 Belden Pl</td>\n",
       "      <td>San Francisco</td>\n",
       "      <td>94104</td>\n",
       "      <td>37.791116</td>\n",
       "      <td>-122.403816</td>\n",
       "      <td>NaN</td>\n",
       "      <td>H24</td>\n",
       "      <td>779059.0</td>\n",
       "      <td>NaN</td>\n",
       "      <td>Tiramisu LLC</td>\n",
       "      <td>33 Belden St</td>\n",
       "      <td>San Francisco</td>\n",
       "      <td>CA</td>\n",
       "      <td>94104</td>\n",
       "    </tr>\n",
       "    <tr>\n",
       "      <th>2</th>\n",
       "      <td>10</td>\n",
       "      <td>NaN</td>\n",
       "      <td>20140124</td>\n",
       "      <td>Reinspection/Followup</td>\n",
       "      <td>Tiramisu Kitchen</td>\n",
       "      <td>033 Belden Pl</td>\n",
       "      <td>San Francisco</td>\n",
       "      <td>94104</td>\n",
       "      <td>37.791116</td>\n",
       "      <td>-122.403816</td>\n",
       "      <td>NaN</td>\n",
       "      <td>H24</td>\n",
       "      <td>779059.0</td>\n",
       "      <td>NaN</td>\n",
       "      <td>Tiramisu LLC</td>\n",
       "      <td>33 Belden St</td>\n",
       "      <td>San Francisco</td>\n",
       "      <td>CA</td>\n",
       "      <td>94104</td>\n",
       "    </tr>\n",
       "    <tr>\n",
       "      <th>3</th>\n",
       "      <td>10</td>\n",
       "      <td>92.0</td>\n",
       "      <td>20140114</td>\n",
       "      <td>Routine - Unscheduled</td>\n",
       "      <td>Tiramisu Kitchen</td>\n",
       "      <td>033 Belden Pl</td>\n",
       "      <td>San Francisco</td>\n",
       "      <td>94104</td>\n",
       "      <td>37.791116</td>\n",
       "      <td>-122.403816</td>\n",
       "      <td>NaN</td>\n",
       "      <td>H24</td>\n",
       "      <td>779059.0</td>\n",
       "      <td>NaN</td>\n",
       "      <td>Tiramisu LLC</td>\n",
       "      <td>33 Belden St</td>\n",
       "      <td>San Francisco</td>\n",
       "      <td>CA</td>\n",
       "      <td>94104</td>\n",
       "    </tr>\n",
       "    <tr>\n",
       "      <th>4</th>\n",
       "      <td>19</td>\n",
       "      <td>94.0</td>\n",
       "      <td>20141110</td>\n",
       "      <td>Routine - Unscheduled</td>\n",
       "      <td>Nrgize Lifestyle Cafe</td>\n",
       "      <td>1200 Van Ness Ave, 3rd Floor</td>\n",
       "      <td>San Francisco</td>\n",
       "      <td>94109</td>\n",
       "      <td>37.786848</td>\n",
       "      <td>-122.421547</td>\n",
       "      <td>NaN</td>\n",
       "      <td>H24</td>\n",
       "      <td>NaN</td>\n",
       "      <td>NaN</td>\n",
       "      <td>24 Hour Fitness Inc</td>\n",
       "      <td>1200 Van Ness Ave, 3rd Floor</td>\n",
       "      <td>San Francisco</td>\n",
       "      <td>CA</td>\n",
       "      <td>94109</td>\n",
       "    </tr>\n",
       "  </tbody>\n",
       "</table>\n",
       "</div>"
      ],
      "text/plain": [
       "   business_id  Score      date                   type                   name  \\\n",
       "0           10    NaN  20140807  Reinspection/Followup       Tiramisu Kitchen   \n",
       "1           10   94.0  20140729  Routine - Unscheduled       Tiramisu Kitchen   \n",
       "2           10    NaN  20140124  Reinspection/Followup       Tiramisu Kitchen   \n",
       "3           10   92.0  20140114  Routine - Unscheduled       Tiramisu Kitchen   \n",
       "4           19   94.0  20141110  Routine - Unscheduled  Nrgize Lifestyle Cafe   \n",
       "\n",
       "                        address           city postal_code   latitude  \\\n",
       "0                 033 Belden Pl  San Francisco       94104  37.791116   \n",
       "1                 033 Belden Pl  San Francisco       94104  37.791116   \n",
       "2                 033 Belden Pl  San Francisco       94104  37.791116   \n",
       "3                 033 Belden Pl  San Francisco       94104  37.791116   \n",
       "4  1200 Van Ness Ave, 3rd Floor  San Francisco       94109  37.786848   \n",
       "\n",
       "    longitude phone_number TaxCode  business_certificate application_date  \\\n",
       "0 -122.403816          NaN     H24              779059.0              NaN   \n",
       "1 -122.403816          NaN     H24              779059.0              NaN   \n",
       "2 -122.403816          NaN     H24              779059.0              NaN   \n",
       "3 -122.403816          NaN     H24              779059.0              NaN   \n",
       "4 -122.421547          NaN     H24                   NaN              NaN   \n",
       "\n",
       "            owner_name                 owner_address     owner_city  \\\n",
       "0         Tiramisu LLC                  33 Belden St  San Francisco   \n",
       "1         Tiramisu LLC                  33 Belden St  San Francisco   \n",
       "2         Tiramisu LLC                  33 Belden St  San Francisco   \n",
       "3         Tiramisu LLC                  33 Belden St  San Francisco   \n",
       "4  24 Hour Fitness Inc  1200 Van Ness Ave, 3rd Floor  San Francisco   \n",
       "\n",
       "  owner_state owner_zip  \n",
       "0          CA     94104  \n",
       "1          CA     94104  \n",
       "2          CA     94104  \n",
       "3          CA     94104  \n",
       "4          CA     94109  "
      ]
     },
     "execution_count": 8,
     "metadata": {},
     "output_type": "execute_result"
    }
   ],
   "source": [
    "insp_bus_info = pd.merge(inspections, businesses, on='business_id')\n",
    "insp_bus_info.head()\n"
   ]
  },
  {
   "cell_type": "code",
   "execution_count": 9,
   "metadata": {
    "collapsed": false
   },
   "outputs": [
    {
     "data": {
      "text/html": [
       "<div>\n",
       "<table border=\"1\" class=\"dataframe\">\n",
       "  <thead>\n",
       "    <tr style=\"text-align: right;\">\n",
       "      <th></th>\n",
       "      <th>business_id</th>\n",
       "      <th>date</th>\n",
       "      <th>ViolationTypeID</th>\n",
       "      <th>risk_category</th>\n",
       "      <th>description</th>\n",
       "      <th>name</th>\n",
       "      <th>address</th>\n",
       "      <th>city</th>\n",
       "      <th>postal_code</th>\n",
       "      <th>latitude</th>\n",
       "      <th>longitude</th>\n",
       "      <th>phone_number</th>\n",
       "      <th>TaxCode</th>\n",
       "      <th>business_certificate</th>\n",
       "      <th>application_date</th>\n",
       "      <th>owner_name</th>\n",
       "      <th>owner_address</th>\n",
       "      <th>owner_city</th>\n",
       "      <th>owner_state</th>\n",
       "      <th>owner_zip</th>\n",
       "    </tr>\n",
       "  </thead>\n",
       "  <tbody>\n",
       "    <tr>\n",
       "      <th>0</th>\n",
       "      <td>10</td>\n",
       "      <td>20140114</td>\n",
       "      <td>103154</td>\n",
       "      <td>Low Risk</td>\n",
       "      <td>Unclean or degraded floors walls or ceilings</td>\n",
       "      <td>Tiramisu Kitchen</td>\n",
       "      <td>033 Belden Pl</td>\n",
       "      <td>San Francisco</td>\n",
       "      <td>94104</td>\n",
       "      <td>37.791116</td>\n",
       "      <td>-122.403816</td>\n",
       "      <td>NaN</td>\n",
       "      <td>H24</td>\n",
       "      <td>779059.0</td>\n",
       "      <td>NaN</td>\n",
       "      <td>Tiramisu LLC</td>\n",
       "      <td>33 Belden St</td>\n",
       "      <td>San Francisco</td>\n",
       "      <td>CA</td>\n",
       "      <td>94104</td>\n",
       "    </tr>\n",
       "    <tr>\n",
       "      <th>1</th>\n",
       "      <td>10</td>\n",
       "      <td>20140114</td>\n",
       "      <td>103119</td>\n",
       "      <td>Moderate Risk</td>\n",
       "      <td>Inadequate and inaccessible handwashing facili...</td>\n",
       "      <td>Tiramisu Kitchen</td>\n",
       "      <td>033 Belden Pl</td>\n",
       "      <td>San Francisco</td>\n",
       "      <td>94104</td>\n",
       "      <td>37.791116</td>\n",
       "      <td>-122.403816</td>\n",
       "      <td>NaN</td>\n",
       "      <td>H24</td>\n",
       "      <td>779059.0</td>\n",
       "      <td>NaN</td>\n",
       "      <td>Tiramisu LLC</td>\n",
       "      <td>33 Belden St</td>\n",
       "      <td>San Francisco</td>\n",
       "      <td>CA</td>\n",
       "      <td>94104</td>\n",
       "    </tr>\n",
       "    <tr>\n",
       "      <th>2</th>\n",
       "      <td>10</td>\n",
       "      <td>20140114</td>\n",
       "      <td>103145</td>\n",
       "      <td>Low Risk</td>\n",
       "      <td>Improper storage of equipment utensils or linens</td>\n",
       "      <td>Tiramisu Kitchen</td>\n",
       "      <td>033 Belden Pl</td>\n",
       "      <td>San Francisco</td>\n",
       "      <td>94104</td>\n",
       "      <td>37.791116</td>\n",
       "      <td>-122.403816</td>\n",
       "      <td>NaN</td>\n",
       "      <td>H24</td>\n",
       "      <td>779059.0</td>\n",
       "      <td>NaN</td>\n",
       "      <td>Tiramisu LLC</td>\n",
       "      <td>33 Belden St</td>\n",
       "      <td>San Francisco</td>\n",
       "      <td>CA</td>\n",
       "      <td>94104</td>\n",
       "    </tr>\n",
       "    <tr>\n",
       "      <th>3</th>\n",
       "      <td>10</td>\n",
       "      <td>20140729</td>\n",
       "      <td>103129</td>\n",
       "      <td>Moderate Risk</td>\n",
       "      <td>Insufficient hot water or running water</td>\n",
       "      <td>Tiramisu Kitchen</td>\n",
       "      <td>033 Belden Pl</td>\n",
       "      <td>San Francisco</td>\n",
       "      <td>94104</td>\n",
       "      <td>37.791116</td>\n",
       "      <td>-122.403816</td>\n",
       "      <td>NaN</td>\n",
       "      <td>H24</td>\n",
       "      <td>779059.0</td>\n",
       "      <td>NaN</td>\n",
       "      <td>Tiramisu LLC</td>\n",
       "      <td>33 Belden St</td>\n",
       "      <td>San Francisco</td>\n",
       "      <td>CA</td>\n",
       "      <td>94104</td>\n",
       "    </tr>\n",
       "    <tr>\n",
       "      <th>4</th>\n",
       "      <td>10</td>\n",
       "      <td>20140729</td>\n",
       "      <td>103144</td>\n",
       "      <td>Low Risk</td>\n",
       "      <td>Unapproved or unmaintained equipment or utensils</td>\n",
       "      <td>Tiramisu Kitchen</td>\n",
       "      <td>033 Belden Pl</td>\n",
       "      <td>San Francisco</td>\n",
       "      <td>94104</td>\n",
       "      <td>37.791116</td>\n",
       "      <td>-122.403816</td>\n",
       "      <td>NaN</td>\n",
       "      <td>H24</td>\n",
       "      <td>779059.0</td>\n",
       "      <td>NaN</td>\n",
       "      <td>Tiramisu LLC</td>\n",
       "      <td>33 Belden St</td>\n",
       "      <td>San Francisco</td>\n",
       "      <td>CA</td>\n",
       "      <td>94104</td>\n",
       "    </tr>\n",
       "  </tbody>\n",
       "</table>\n",
       "</div>"
      ],
      "text/plain": [
       "   business_id      date  ViolationTypeID  risk_category  \\\n",
       "0           10  20140114           103154       Low Risk   \n",
       "1           10  20140114           103119  Moderate Risk   \n",
       "2           10  20140114           103145       Low Risk   \n",
       "3           10  20140729           103129  Moderate Risk   \n",
       "4           10  20140729           103144       Low Risk   \n",
       "\n",
       "                                         description              name  \\\n",
       "0       Unclean or degraded floors walls or ceilings  Tiramisu Kitchen   \n",
       "1  Inadequate and inaccessible handwashing facili...  Tiramisu Kitchen   \n",
       "2   Improper storage of equipment utensils or linens  Tiramisu Kitchen   \n",
       "3            Insufficient hot water or running water  Tiramisu Kitchen   \n",
       "4   Unapproved or unmaintained equipment or utensils  Tiramisu Kitchen   \n",
       "\n",
       "         address           city postal_code   latitude   longitude  \\\n",
       "0  033 Belden Pl  San Francisco       94104  37.791116 -122.403816   \n",
       "1  033 Belden Pl  San Francisco       94104  37.791116 -122.403816   \n",
       "2  033 Belden Pl  San Francisco       94104  37.791116 -122.403816   \n",
       "3  033 Belden Pl  San Francisco       94104  37.791116 -122.403816   \n",
       "4  033 Belden Pl  San Francisco       94104  37.791116 -122.403816   \n",
       "\n",
       "  phone_number TaxCode  business_certificate application_date    owner_name  \\\n",
       "0          NaN     H24              779059.0              NaN  Tiramisu LLC   \n",
       "1          NaN     H24              779059.0              NaN  Tiramisu LLC   \n",
       "2          NaN     H24              779059.0              NaN  Tiramisu LLC   \n",
       "3          NaN     H24              779059.0              NaN  Tiramisu LLC   \n",
       "4          NaN     H24              779059.0              NaN  Tiramisu LLC   \n",
       "\n",
       "  owner_address     owner_city owner_state owner_zip  \n",
       "0  33 Belden St  San Francisco          CA     94104  \n",
       "1  33 Belden St  San Francisco          CA     94104  \n",
       "2  33 Belden St  San Francisco          CA     94104  \n",
       "3  33 Belden St  San Francisco          CA     94104  \n",
       "4  33 Belden St  San Francisco          CA     94104  "
      ]
     },
     "execution_count": 9,
     "metadata": {},
     "output_type": "execute_result"
    }
   ],
   "source": [
    "vio_bus_info = pd.merge(violations, businesses, on='business_id')\n",
    "vio_bus_info.head()"
   ]
  },
  {
   "cell_type": "code",
   "execution_count": 10,
   "metadata": {
    "collapsed": false
   },
   "outputs": [
    {
     "data": {
      "text/html": [
       "<div>\n",
       "<table border=\"1\" class=\"dataframe\">\n",
       "  <thead>\n",
       "    <tr style=\"text-align: right;\">\n",
       "      <th></th>\n",
       "      <th>business_id</th>\n",
       "      <th>date</th>\n",
       "      <th>ViolationTypeID</th>\n",
       "      <th>latitude</th>\n",
       "      <th>longitude</th>\n",
       "      <th>business_certificate</th>\n",
       "    </tr>\n",
       "  </thead>\n",
       "  <tbody>\n",
       "    <tr>\n",
       "      <th>count</th>\n",
       "      <td>39621.000000</td>\n",
       "      <td>3.962100e+04</td>\n",
       "      <td>39621.000000</td>\n",
       "      <td>30959.000000</td>\n",
       "      <td>30959.000000</td>\n",
       "      <td>3.502500e+04</td>\n",
       "    </tr>\n",
       "    <tr>\n",
       "      <th>mean</th>\n",
       "      <td>37358.773807</td>\n",
       "      <td>2.014214e+07</td>\n",
       "      <td>103134.348426</td>\n",
       "      <td>37.655419</td>\n",
       "      <td>-122.042984</td>\n",
       "      <td>4.515759e+05</td>\n",
       "    </tr>\n",
       "    <tr>\n",
       "      <th>std</th>\n",
       "      <td>31498.879059</td>\n",
       "      <td>9.067527e+03</td>\n",
       "      <td>16.717252</td>\n",
       "      <td>2.111221</td>\n",
       "      <td>6.842228</td>\n",
       "      <td>2.167371e+05</td>\n",
       "    </tr>\n",
       "    <tr>\n",
       "      <th>min</th>\n",
       "      <td>10.000000</td>\n",
       "      <td>2.013041e+07</td>\n",
       "      <td>103101.000000</td>\n",
       "      <td>0.000000</td>\n",
       "      <td>-122.510896</td>\n",
       "      <td>6.710000e+02</td>\n",
       "    </tr>\n",
       "    <tr>\n",
       "      <th>25%</th>\n",
       "      <td>3731.000000</td>\n",
       "      <td>2.013120e+07</td>\n",
       "      <td>103120.000000</td>\n",
       "      <td>NaN</td>\n",
       "      <td>NaN</td>\n",
       "      <td>NaN</td>\n",
       "    </tr>\n",
       "    <tr>\n",
       "      <th>50%</th>\n",
       "      <td>35464.000000</td>\n",
       "      <td>2.014062e+07</td>\n",
       "      <td>103139.000000</td>\n",
       "      <td>NaN</td>\n",
       "      <td>NaN</td>\n",
       "      <td>NaN</td>\n",
       "    </tr>\n",
       "    <tr>\n",
       "      <th>75%</th>\n",
       "      <td>68773.000000</td>\n",
       "      <td>2.015042e+07</td>\n",
       "      <td>103149.000000</td>\n",
       "      <td>NaN</td>\n",
       "      <td>NaN</td>\n",
       "      <td>NaN</td>\n",
       "    </tr>\n",
       "    <tr>\n",
       "      <th>max</th>\n",
       "      <td>86845.000000</td>\n",
       "      <td>2.016040e+07</td>\n",
       "      <td>103178.000000</td>\n",
       "      <td>37.875937</td>\n",
       "      <td>0.000000</td>\n",
       "      <td>1.024020e+06</td>\n",
       "    </tr>\n",
       "  </tbody>\n",
       "</table>\n",
       "</div>"
      ],
      "text/plain": [
       "        business_id          date  ViolationTypeID      latitude  \\\n",
       "count  39621.000000  3.962100e+04     39621.000000  30959.000000   \n",
       "mean   37358.773807  2.014214e+07    103134.348426     37.655419   \n",
       "std    31498.879059  9.067527e+03        16.717252      2.111221   \n",
       "min       10.000000  2.013041e+07    103101.000000      0.000000   \n",
       "25%     3731.000000  2.013120e+07    103120.000000           NaN   \n",
       "50%    35464.000000  2.014062e+07    103139.000000           NaN   \n",
       "75%    68773.000000  2.015042e+07    103149.000000           NaN   \n",
       "max    86845.000000  2.016040e+07    103178.000000     37.875937   \n",
       "\n",
       "          longitude  business_certificate  \n",
       "count  30959.000000          3.502500e+04  \n",
       "mean    -122.042984          4.515759e+05  \n",
       "std        6.842228          2.167371e+05  \n",
       "min     -122.510896          6.710000e+02  \n",
       "25%             NaN                   NaN  \n",
       "50%             NaN                   NaN  \n",
       "75%             NaN                   NaN  \n",
       "max        0.000000          1.024020e+06  "
      ]
     },
     "execution_count": 10,
     "metadata": {},
     "output_type": "execute_result"
    }
   ],
   "source": [
    "vio_bus_info.describe()"
   ]
  },
  {
   "cell_type": "code",
   "execution_count": 11,
   "metadata": {
    "collapsed": false
   },
   "outputs": [
    {
     "data": {
      "text/plain": [
       "1775     21\n",
       "2505     20\n",
       "74374    20\n",
       "71618    19\n",
       "67154    19\n",
       "71804    19\n",
       "74131    19\n",
       "7747     18\n",
       "489      18\n",
       "80243    17\n",
       "Name: business_id, dtype: int64"
      ]
     },
     "execution_count": 11,
     "metadata": {},
     "output_type": "execute_result"
    }
   ],
   "source": [
    "# 2 Which ten business have had the most inspections?\n",
    "insp_bus_info.business_id.value_counts().head(10)"
   ]
  },
  {
   "cell_type": "code",
   "execution_count": 12,
   "metadata": {
    "collapsed": false
   },
   "outputs": [
    {
     "data": {
      "text/plain": [
       "Peet's Coffee & Tea           87\n",
       "Starbucks Coffee              71\n",
       "Whole Foods Market            54\n",
       "STARBUCKS                     49\n",
       "Specialty's Cafe & Bakery     48\n",
       "San Francisco Soup Company    44\n",
       "STARBUCKS COFFEE              44\n",
       "KENTUCKY FRIED CHICKEN        32\n",
       "Subway Sandwiches             31\n",
       "Lee's Deli                    31\n",
       "Name: name, dtype: int64"
      ]
     },
     "execution_count": 12,
     "metadata": {},
     "output_type": "execute_result"
    }
   ],
   "source": [
    "insp_bus_info.name.value_counts().head(10)"
   ]
  },
  {
   "cell_type": "code",
   "execution_count": null,
   "metadata": {
    "collapsed": false
   },
   "outputs": [],
   "source": []
  },
  {
   "cell_type": "code",
   "execution_count": 13,
   "metadata": {
    "collapsed": false
   },
   "outputs": [
    {
     "data": {
      "text/plain": [
       "Routine - Unscheduled                15481\n",
       "Reinspection/Followup                 5386\n",
       "New Ownership                         1877\n",
       "Complaint                             1634\n",
       "New Construction                      1613\n",
       "Non-inspection site visit              840\n",
       "Complaint Reinspection/Followup        163\n",
       "Structural Inspection                  120\n",
       "Foodborne Illness Investigation        100\n",
       "Routine - Scheduled                     63\n",
       "Administrative or Document Review        4\n",
       "Special Event                            2\n",
       "Multi-agency Investigation               2\n",
       "Name: type, dtype: int64"
      ]
     },
     "execution_count": 13,
     "metadata": {},
     "output_type": "execute_result"
    }
   ],
   "source": [
    "# 3 Group and count the inspections by type\n",
    "inspections.type.value_counts()"
   ]
  },
  {
   "cell_type": "code",
   "execution_count": 14,
   "metadata": {
    "collapsed": false
   },
   "outputs": [],
   "source": [
    "# 4 Create a plot that shows number of inspections per month\n",
    "# Bonus for creating a heatmap\n",
    "# http://stanford.edu/~mwaskom/software/seaborn/generated/seaborn.heatmap.html?highlight=heatmap"
   ]
  },
  {
   "cell_type": "code",
   "execution_count": 15,
   "metadata": {
    "collapsed": false
   },
   "outputs": [
    {
     "data": {
      "text/plain": [
       "8"
      ]
     },
     "execution_count": 15,
     "metadata": {},
     "output_type": "execute_result"
    }
   ],
   "source": [
    "date2 = pd.to_datetime(inspections['date'], format='%Y%m%d')\n",
    "date2[0].month"
   ]
  },
  {
   "cell_type": "code",
   "execution_count": 16,
   "metadata": {
    "collapsed": false
   },
   "outputs": [
    {
     "data": {
      "text/plain": [
       "Low Risk         20699\n",
       "Moderate Risk    13419\n",
       "High Risk         5493\n",
       "Name: risk_category, dtype: int64"
      ]
     },
     "execution_count": 16,
     "metadata": {},
     "output_type": "execute_result"
    }
   ],
   "source": [
    "vio_bus_info.risk_category.value_counts()"
   ]
  },
  {
   "cell_type": "code",
   "execution_count": 17,
   "metadata": {
    "collapsed": false
   },
   "outputs": [
    {
     "data": {
      "text/plain": [
       "94133    3262\n",
       "94110    3118\n",
       "94109    2919\n",
       "94122    2045\n",
       "94102    2041\n",
       "94112    1642\n",
       "94103    1575\n",
       "94107    1489\n",
       "94108    1419\n",
       "94121    1314\n",
       "Name: owner_zip, dtype: int64"
      ]
     },
     "execution_count": 17,
     "metadata": {},
     "output_type": "execute_result"
    }
   ],
   "source": [
    "# 5 Which zip code contains the most high risk violations?\n",
    "vio_bus_info['owner_zip'].value_counts().head(10)"
   ]
  },
  {
   "cell_type": "code",
   "execution_count": 18,
   "metadata": {
    "collapsed": false
   },
   "outputs": [
    {
     "data": {
      "text/plain": [
       "94133    443\n",
       "94110    387\n",
       "94109    365\n",
       "94122    352\n",
       "94102    268\n",
       "94103    256\n",
       "94108    232\n",
       "94107    196\n",
       "94112    195\n",
       "94114    174\n",
       "Name: owner_zip, dtype: int64"
      ]
     },
     "execution_count": 18,
     "metadata": {},
     "output_type": "execute_result"
    }
   ],
   "source": [
    "vio_bus_info['owner_zip'][vio_bus_info.risk_category == 'High Risk'].value_counts().head(10)"
   ]
  },
  {
   "cell_type": "code",
   "execution_count": 19,
   "metadata": {
    "collapsed": true
   },
   "outputs": [],
   "source": [
    "# 6 If inspection is prompted by a change in restaurant ownership, \n",
    "# is the inspection more likely to be categorized as higher or lower risk?"
   ]
  },
  {
   "cell_type": "code",
   "execution_count": 20,
   "metadata": {
    "collapsed": false
   },
   "outputs": [
    {
     "data": {
      "text/plain": [
       "Unclean or degraded floors walls or ceilings                          3395\n",
       "Moderate risk food holding temperature                                2621\n",
       "Inadequate and inaccessible handwashing facilities                    2444\n",
       "Unapproved or unmaintained equipment or utensils                      2335\n",
       "Wiping cloths not clean or properly stored or inadequate sanitizer    2294\n",
       "Name: description, dtype: int64"
      ]
     },
     "execution_count": 20,
     "metadata": {},
     "output_type": "execute_result"
    }
   ],
   "source": [
    "# 7 Examining the descriptions, what is the most common violation?\n",
    "violations.description.value_counts().head()"
   ]
  },
  {
   "cell_type": "code",
   "execution_count": 21,
   "metadata": {
    "collapsed": false
   },
   "outputs": [
    {
     "data": {
      "text/plain": [
       "<matplotlib.axes._subplots.AxesSubplot at 0x115b4dfd0>"
      ]
     },
     "execution_count": 21,
     "metadata": {},
     "output_type": "execute_result"
    },
    {
     "data": {
      "image/png": "[encoded data removed]",
      "text/plain": [
       "<matplotlib.figure.Figure at 0x115b6dd90>"
      ]
     },
     "metadata": {},
     "output_type": "display_data"
    }
   ],
   "source": [
    "# 8 Create a hist of the scores with 10 bins\n",
    "inspections.Score.hist(bins=10)"
   ]
  },
  {
   "cell_type": "code",
   "execution_count": 22,
   "metadata": {
    "collapsed": true
   },
   "outputs": [],
   "source": [
    "# 9 Can you predict risk category based on the other features in this dataset?"
   ]
  },
  {
   "cell_type": "code",
   "execution_count": 23,
   "metadata": {
    "collapsed": true
   },
   "outputs": [],
   "source": [
    "# 10 Extra Credit:\n",
    "# Use Instagram location API to find pictures taken at the lat, long of the most High Risk restaurant\n",
    "# https://www.instagram.com/developer/endpoints/locations/"
   ]
  },
  {
   "cell_type": "code",
   "execution_count": 24,
   "metadata": {
    "collapsed": true
   },
   "outputs": [],
   "source": [
    "############################\n",
    "### A Little More Morbid ###\n",
    "############################"
   ]
  },
  {
   "cell_type": "code",
   "execution_count": 25,
   "metadata": {
    "collapsed": false
   },
   "outputs": [
    {
     "data": {
      "text/html": [
       "<div>\n",
       "<table border=\"1\" class=\"dataframe\">\n",
       "  <thead>\n",
       "    <tr style=\"text-align: right;\">\n",
       "      <th></th>\n",
       "      <th>Unnamed: 0</th>\n",
       "      <th>name</th>\n",
       "      <th>age</th>\n",
       "      <th>gender</th>\n",
       "      <th>raceethnicity</th>\n",
       "      <th>month</th>\n",
       "      <th>day</th>\n",
       "      <th>year</th>\n",
       "      <th>streetaddress</th>\n",
       "      <th>city</th>\n",
       "      <th>state</th>\n",
       "      <th>lawenforcementagency</th>\n",
       "      <th>cause</th>\n",
       "      <th>armed</th>\n",
       "      <th>county_income</th>\n",
       "    </tr>\n",
       "  </thead>\n",
       "  <tbody>\n",
       "    <tr>\n",
       "      <th>0</th>\n",
       "      <td>0</td>\n",
       "      <td>A'donte Washington</td>\n",
       "      <td>16</td>\n",
       "      <td>Male</td>\n",
       "      <td>Black</td>\n",
       "      <td>February</td>\n",
       "      <td>23</td>\n",
       "      <td>2015</td>\n",
       "      <td>Clearview Ln</td>\n",
       "      <td>Millbrook</td>\n",
       "      <td>AL</td>\n",
       "      <td>Millbrook Police Department</td>\n",
       "      <td>Gunshot</td>\n",
       "      <td>No</td>\n",
       "      <td>54766</td>\n",
       "    </tr>\n",
       "    <tr>\n",
       "      <th>1</th>\n",
       "      <td>1</td>\n",
       "      <td>Aaron Rutledge</td>\n",
       "      <td>27</td>\n",
       "      <td>Male</td>\n",
       "      <td>White</td>\n",
       "      <td>April</td>\n",
       "      <td>2</td>\n",
       "      <td>2015</td>\n",
       "      <td>300 block Iris Park Dr</td>\n",
       "      <td>Pineville</td>\n",
       "      <td>LA</td>\n",
       "      <td>Rapides Parish Sheriff's Office</td>\n",
       "      <td>Gunshot</td>\n",
       "      <td>No</td>\n",
       "      <td>40930</td>\n",
       "    </tr>\n",
       "    <tr>\n",
       "      <th>2</th>\n",
       "      <td>2</td>\n",
       "      <td>Aaron Siler</td>\n",
       "      <td>26</td>\n",
       "      <td>Male</td>\n",
       "      <td>White</td>\n",
       "      <td>March</td>\n",
       "      <td>14</td>\n",
       "      <td>2015</td>\n",
       "      <td>22nd Ave and 56th St</td>\n",
       "      <td>Kenosha</td>\n",
       "      <td>WI</td>\n",
       "      <td>Kenosha Police Department</td>\n",
       "      <td>Gunshot</td>\n",
       "      <td>No</td>\n",
       "      <td>54930</td>\n",
       "    </tr>\n",
       "    <tr>\n",
       "      <th>3</th>\n",
       "      <td>3</td>\n",
       "      <td>Aaron Valdez</td>\n",
       "      <td>25</td>\n",
       "      <td>Male</td>\n",
       "      <td>Hispanic/Latino</td>\n",
       "      <td>March</td>\n",
       "      <td>11</td>\n",
       "      <td>2015</td>\n",
       "      <td>3000 Seminole Ave</td>\n",
       "      <td>South Gate</td>\n",
       "      <td>CA</td>\n",
       "      <td>South Gate Police Department</td>\n",
       "      <td>Gunshot</td>\n",
       "      <td>Firearm</td>\n",
       "      <td>55909</td>\n",
       "    </tr>\n",
       "    <tr>\n",
       "      <th>4</th>\n",
       "      <td>4</td>\n",
       "      <td>Adam Jovicic</td>\n",
       "      <td>29</td>\n",
       "      <td>Male</td>\n",
       "      <td>White</td>\n",
       "      <td>March</td>\n",
       "      <td>19</td>\n",
       "      <td>2015</td>\n",
       "      <td>364 Hiwood Ave</td>\n",
       "      <td>Munroe Falls</td>\n",
       "      <td>OH</td>\n",
       "      <td>Kent Police Department</td>\n",
       "      <td>Gunshot</td>\n",
       "      <td>No</td>\n",
       "      <td>49669</td>\n",
       "    </tr>\n",
       "  </tbody>\n",
       "</table>\n",
       "</div>"
      ],
      "text/plain": [
       "   Unnamed: 0                name  age gender    raceethnicity     month  day  \\\n",
       "0           0  A'donte Washington   16   Male            Black  February   23   \n",
       "1           1      Aaron Rutledge   27   Male            White     April    2   \n",
       "2           2         Aaron Siler   26   Male            White     March   14   \n",
       "3           3        Aaron Valdez   25   Male  Hispanic/Latino     March   11   \n",
       "4           4        Adam Jovicic   29   Male            White     March   19   \n",
       "\n",
       "   year           streetaddress          city state  \\\n",
       "0  2015            Clearview Ln     Millbrook    AL   \n",
       "1  2015  300 block Iris Park Dr     Pineville    LA   \n",
       "2  2015    22nd Ave and 56th St       Kenosha    WI   \n",
       "3  2015       3000 Seminole Ave    South Gate    CA   \n",
       "4  2015          364 Hiwood Ave  Munroe Falls    OH   \n",
       "\n",
       "              lawenforcementagency    cause    armed  county_income  \n",
       "0      Millbrook Police Department  Gunshot       No          54766  \n",
       "1  Rapides Parish Sheriff's Office  Gunshot       No          40930  \n",
       "2        Kenosha Police Department  Gunshot       No          54930  \n",
       "3     South Gate Police Department  Gunshot  Firearm          55909  \n",
       "4           Kent Police Department  Gunshot       No          49669  "
      ]
     },
     "execution_count": 25,
     "metadata": {},
     "output_type": "execute_result"
    }
   ],
   "source": [
    "killings = pd.read_csv('./data/police-killings.csv')\n",
    "killings.head()"
   ]
  },
  {
   "cell_type": "code",
   "execution_count": 26,
   "metadata": {
    "collapsed": false
   },
   "outputs": [
    {
     "data": {
      "text/html": [
       "<div>\n",
       "<table border=\"1\" class=\"dataframe\">\n",
       "  <thead>\n",
       "    <tr style=\"text-align: right;\">\n",
       "      <th></th>\n",
       "      <th>Unnamed: 0</th>\n",
       "      <th>age</th>\n",
       "      <th>day</th>\n",
       "      <th>year</th>\n",
       "      <th>county_income</th>\n",
       "    </tr>\n",
       "  </thead>\n",
       "  <tbody>\n",
       "    <tr>\n",
       "      <th>count</th>\n",
       "      <td>467.000000</td>\n",
       "      <td>467.000000</td>\n",
       "      <td>467.000000</td>\n",
       "      <td>467.0</td>\n",
       "      <td>467.000000</td>\n",
       "    </tr>\n",
       "    <tr>\n",
       "      <th>mean</th>\n",
       "      <td>233.000000</td>\n",
       "      <td>37.351178</td>\n",
       "      <td>15.830835</td>\n",
       "      <td>2015.0</td>\n",
       "      <td>52527.331906</td>\n",
       "    </tr>\n",
       "    <tr>\n",
       "      <th>std</th>\n",
       "      <td>134.955548</td>\n",
       "      <td>12.944617</td>\n",
       "      <td>8.658970</td>\n",
       "      <td>0.0</td>\n",
       "      <td>12948.263811</td>\n",
       "    </tr>\n",
       "    <tr>\n",
       "      <th>min</th>\n",
       "      <td>0.000000</td>\n",
       "      <td>16.000000</td>\n",
       "      <td>1.000000</td>\n",
       "      <td>2015.0</td>\n",
       "      <td>22545.000000</td>\n",
       "    </tr>\n",
       "    <tr>\n",
       "      <th>25%</th>\n",
       "      <td>116.500000</td>\n",
       "      <td>28.000000</td>\n",
       "      <td>8.000000</td>\n",
       "      <td>2015.0</td>\n",
       "      <td>43804.000000</td>\n",
       "    </tr>\n",
       "    <tr>\n",
       "      <th>50%</th>\n",
       "      <td>233.000000</td>\n",
       "      <td>35.000000</td>\n",
       "      <td>16.000000</td>\n",
       "      <td>2015.0</td>\n",
       "      <td>50856.000000</td>\n",
       "    </tr>\n",
       "    <tr>\n",
       "      <th>75%</th>\n",
       "      <td>349.500000</td>\n",
       "      <td>45.000000</td>\n",
       "      <td>23.000000</td>\n",
       "      <td>2015.0</td>\n",
       "      <td>56832.000000</td>\n",
       "    </tr>\n",
       "    <tr>\n",
       "      <th>max</th>\n",
       "      <td>466.000000</td>\n",
       "      <td>87.000000</td>\n",
       "      <td>31.000000</td>\n",
       "      <td>2015.0</td>\n",
       "      <td>110292.000000</td>\n",
       "    </tr>\n",
       "  </tbody>\n",
       "</table>\n",
       "</div>"
      ],
      "text/plain": [
       "       Unnamed: 0         age         day    year  county_income\n",
       "count  467.000000  467.000000  467.000000   467.0     467.000000\n",
       "mean   233.000000   37.351178   15.830835  2015.0   52527.331906\n",
       "std    134.955548   12.944617    8.658970     0.0   12948.263811\n",
       "min      0.000000   16.000000    1.000000  2015.0   22545.000000\n",
       "25%    116.500000   28.000000    8.000000  2015.0   43804.000000\n",
       "50%    233.000000   35.000000   16.000000  2015.0   50856.000000\n",
       "75%    349.500000   45.000000   23.000000  2015.0   56832.000000\n",
       "max    466.000000   87.000000   31.000000  2015.0  110292.000000"
      ]
     },
     "execution_count": 26,
     "metadata": {},
     "output_type": "execute_result"
    }
   ],
   "source": [
    "killings.describe()"
   ]
  },
  {
   "cell_type": "code",
   "execution_count": 27,
   "metadata": {
    "collapsed": false
   },
   "outputs": [
    {
     "name": "stdout",
     "output_type": "stream",
     "text": [
      "<class 'pandas.core.frame.DataFrame'>\n",
      "RangeIndex: 467 entries, 0 to 466\n",
      "Data columns (total 15 columns):\n",
      "Unnamed: 0              467 non-null int64\n",
      "name                    467 non-null object\n",
      "age                     467 non-null int64\n",
      "gender                  467 non-null object\n",
      "raceethnicity           467 non-null object\n",
      "month                   467 non-null object\n",
      "day                     467 non-null int64\n",
      "year                    467 non-null int64\n",
      "streetaddress           463 non-null object\n",
      "city                    467 non-null object\n",
      "state                   467 non-null object\n",
      "lawenforcementagency    467 non-null object\n",
      "cause                   467 non-null object\n",
      "armed                   467 non-null object\n",
      "county_income           467 non-null int64\n",
      "dtypes: int64(5), object(10)\n",
      "memory usage: 54.8+ KB\n"
     ]
    }
   ],
   "source": [
    "killings.info()"
   ]
  },
  {
   "cell_type": "code",
   "execution_count": 28,
   "metadata": {
    "collapsed": false
   },
   "outputs": [],
   "source": [
    "# 1. Make the following changed to column names:\n",
    "# lawenforcementagency -> agency\n",
    "# raceethnicity        -> race\n",
    "killings.rename(columns={'lawenforcementagency': 'agency', 'raceethnicity': 'race'}, inplace=True)"
   ]
  },
  {
   "cell_type": "code",
   "execution_count": 29,
   "metadata": {
    "collapsed": false
   },
   "outputs": [
    {
     "data": {
      "text/plain": [
       "Index([u'Unnamed: 0', u'name', u'age', u'gender', u'race', u'month', u'day',\n",
       "       u'year', u'streetaddress', u'city', u'state', u'agency', u'cause',\n",
       "       u'armed', u'county_income'],\n",
       "      dtype='object')"
      ]
     },
     "execution_count": 29,
     "metadata": {},
     "output_type": "execute_result"
    }
   ],
   "source": [
    "killings.columns"
   ]
  },
  {
   "cell_type": "code",
   "execution_count": 30,
   "metadata": {
    "collapsed": false
   },
   "outputs": [],
   "source": [
    "# 2. Show the count of missing values in each column\n"
   ]
  },
  {
   "cell_type": "code",
   "execution_count": 31,
   "metadata": {
    "collapsed": false
   },
   "outputs": [
    {
     "data": {
      "text/plain": [
       "Unnamed: 0       0\n",
       "name             0\n",
       "age              0\n",
       "gender           0\n",
       "race             0\n",
       "month            0\n",
       "day              0\n",
       "year             0\n",
       "streetaddress    4\n",
       "city             0\n",
       "state            0\n",
       "agency           0\n",
       "cause            0\n",
       "armed            0\n",
       "county_income    0\n",
       "dtype: int64"
      ]
     },
     "execution_count": 31,
     "metadata": {},
     "output_type": "execute_result"
    }
   ],
   "source": [
    "killings.isnull().sum()"
   ]
  },
  {
   "cell_type": "code",
   "execution_count": 32,
   "metadata": {
    "collapsed": false
   },
   "outputs": [
    {
     "data": {
      "text/plain": [
       "0              Clearview Ln\n",
       "1    300 block Iris Park Dr\n",
       "2      22nd Ave and 56th St\n",
       "3         3000 Seminole Ave\n",
       "4            364 Hiwood Ave\n",
       "Name: streetaddress, dtype: object"
      ]
     },
     "execution_count": 32,
     "metadata": {},
     "output_type": "execute_result"
    }
   ],
   "source": [
    "# 3. replace each null value in the dataframe with the string \"Unknown\"\n",
    "killings['streetaddress'].fillna(\"Unknown\").head()"
   ]
  },
  {
   "cell_type": "code",
   "execution_count": 33,
   "metadata": {
    "collapsed": false
   },
   "outputs": [
    {
     "data": {
      "text/plain": [
       "2015    467\n",
       "Name: year, dtype: int64"
      ]
     },
     "execution_count": 33,
     "metadata": {},
     "output_type": "execute_result"
    }
   ],
   "source": [
    "# 4. How many killings were there so far in 2015?\n",
    "killings.year.value_counts()"
   ]
  },
  {
   "cell_type": "code",
   "execution_count": 34,
   "metadata": {
    "collapsed": false
   },
   "outputs": [
    {
     "data": {
      "text/plain": [
       "Male      445\n",
       "Female     22\n",
       "Name: gender, dtype: int64"
      ]
     },
     "execution_count": 34,
     "metadata": {},
     "output_type": "execute_result"
    }
   ],
   "source": [
    "# 5. Of all killings, how many were male and how many female?\n",
    "killings['gender'].value_counts()"
   ]
  },
  {
   "cell_type": "code",
   "execution_count": 35,
   "metadata": {
    "collapsed": false
   },
   "outputs": [
    {
     "data": {
      "text/plain": [
       "Firearm               230\n",
       "No                    102\n",
       "Knife                  68\n",
       "Other                  26\n",
       "Vehicle                18\n",
       "Non-lethal firearm     14\n",
       "Unknown                 7\n",
       "Disputed                2\n",
       "Name: armed, dtype: int64"
      ]
     },
     "execution_count": 35,
     "metadata": {},
     "output_type": "execute_result"
    }
   ],
   "source": [
    "# 6. How many killings were of unarmed people?\n",
    "killings.armed.value_counts()"
   ]
  },
  {
   "cell_type": "code",
   "execution_count": 36,
   "metadata": {
    "collapsed": false
   },
   "outputs": [
    {
     "data": {
      "text/plain": [
       "102"
      ]
     },
     "execution_count": 36,
     "metadata": {},
     "output_type": "execute_result"
    }
   ],
   "source": [
    "killings.armed[killings.armed == 'No'].count()"
   ]
  },
  {
   "cell_type": "code",
   "execution_count": null,
   "metadata": {
    "collapsed": false
   },
   "outputs": [],
   "source": []
  },
  {
   "cell_type": "code",
   "execution_count": 37,
   "metadata": {
    "collapsed": false
   },
   "outputs": [
    {
     "data": {
      "text/plain": [
       "0.21841541755888652"
      ]
     },
     "execution_count": 37,
     "metadata": {},
     "output_type": "execute_result"
    }
   ],
   "source": [
    "# 7. What percentage of all killings were unarmed?\n",
    "unarmed_killings = killings.armed[killings.armed == 'No'].count()\n",
    "total_killings = killings.armed.count()\n",
    "(unarmed_killings*1.0)/total_killings"
   ]
  },
  {
   "cell_type": "code",
   "execution_count": 38,
   "metadata": {
    "collapsed": false
   },
   "outputs": [
    {
     "data": {
      "text/plain": [
       "CA    74\n",
       "TX    46\n",
       "FL    29\n",
       "AZ    25\n",
       "OK    22\n",
       "Name: state, dtype: int64"
      ]
     },
     "execution_count": 38,
     "metadata": {},
     "output_type": "execute_result"
    }
   ],
   "source": [
    "# 8. What are the 5 states with the most killings?\n",
    "killings.state.value_counts().head()"
   ]
  },
  {
   "cell_type": "code",
   "execution_count": 39,
   "metadata": {
    "collapsed": false
   },
   "outputs": [
    {
     "data": {
      "text/plain": [
       "White                     236\n",
       "Black                     135\n",
       "Hispanic/Latino            67\n",
       "Unknown                    15\n",
       "Asian/Pacific Islander     10\n",
       "Native American             4\n",
       "Name: race, dtype: int64"
      ]
     },
     "execution_count": 39,
     "metadata": {},
     "output_type": "execute_result"
    }
   ],
   "source": [
    "# 9. Show a value counts of deaths for each race\n",
    "killings.race.value_counts()"
   ]
  },
  {
   "cell_type": "code",
   "execution_count": 40,
   "metadata": {
    "collapsed": false
   },
   "outputs": [
    {
     "data": {
      "text/plain": [
       "<matplotlib.axes._subplots.AxesSubplot at 0x115837b90>"
      ]
     },
     "execution_count": 40,
     "metadata": {},
     "output_type": "execute_result"
    },
    {
     "data": {
      "image/png": "[encoded data removed]",
      "text/plain": [
       "<matplotlib.figure.Figure at 0x116ef5950>"
      ]
     },
     "metadata": {},
     "output_type": "display_data"
    }
   ],
   "source": [
    "# 10. Display a histogram of ages of all killings\n",
    "killings.age.hist()"
   ]
  },
  {
   "cell_type": "code",
   "execution_count": 41,
   "metadata": {
    "collapsed": false
   },
   "outputs": [
    {
     "data": {
      "text/plain": [
       "race\n",
       "Asian/Pacific Islander    Axes(0.125,0.125;0.775x0.775)\n",
       "Black                     Axes(0.125,0.125;0.775x0.775)\n",
       "Hispanic/Latino           Axes(0.125,0.125;0.775x0.775)\n",
       "Native American           Axes(0.125,0.125;0.775x0.775)\n",
       "Unknown                   Axes(0.125,0.125;0.775x0.775)\n",
       "White                     Axes(0.125,0.125;0.775x0.775)\n",
       "Name: age, dtype: object"
      ]
     },
     "execution_count": 41,
     "metadata": {},
     "output_type": "execute_result"
    },
    {
     "data": {
      "image/png": "[encoded data removed]",
      "text/plain": [
       "<matplotlib.figure.Figure at 0x115879bd0>"
      ]
     },
     "metadata": {},
     "output_type": "display_data"
    }
   ],
   "source": [
    "# 11. Show 6 histograms of ages by race\n",
    "killings.groupby('race').age.plot(kind='hist')"
   ]
  },
  {
   "cell_type": "code",
   "execution_count": 42,
   "metadata": {
    "collapsed": false
   },
   "outputs": [
    {
     "data": {
      "text/plain": [
       "race\n",
       "Asian/Pacific Islander    40.800000\n",
       "Black                     34.044444\n",
       "Hispanic/Latino           31.716418\n",
       "Native American           27.750000\n",
       "Unknown                   43.533333\n",
       "White                     40.466102\n",
       "Name: age, dtype: float64"
      ]
     },
     "execution_count": 42,
     "metadata": {},
     "output_type": "execute_result"
    }
   ],
   "source": [
    "# 12. What is the average age of death by race?\n",
    "killings.groupby('race').age.mean()"
   ]
  },
  {
   "cell_type": "code",
   "execution_count": 43,
   "metadata": {
    "collapsed": false
   },
   "outputs": [
    {
     "data": {
      "text/plain": [
       "<matplotlib.axes._subplots.AxesSubplot at 0x119f2ba90>"
      ]
     },
     "execution_count": 43,
     "metadata": {},
     "output_type": "execute_result"
    },
    {
     "data": {
      "image/png": "[encoded data removed]",
      "text/plain": [
       "<matplotlib.figure.Figure at 0x1124fd1d0>"
      ]
     },
     "metadata": {},
     "output_type": "display_data"
    }
   ],
   "source": [
    "# 13. Show a bar chart with counts of deaths every month\n",
    "killings.month.value_counts().plot.bar()"
   ]
  },
  {
   "cell_type": "code",
   "execution_count": 44,
   "metadata": {
    "collapsed": true
   },
   "outputs": [],
   "source": [
    "###################\n",
    "### Less Morbid ###\n",
    "###################"
   ]
  },
  {
   "cell_type": "code",
   "execution_count": 45,
   "metadata": {
    "collapsed": false
   },
   "outputs": [
    {
     "data": {
      "text/html": [
       "<div>\n",
       "<table border=\"1\" class=\"dataframe\">\n",
       "  <thead>\n",
       "    <tr style=\"text-align: right;\">\n",
       "      <th></th>\n",
       "      <th>Unnamed: 0</th>\n",
       "      <th>Major_code</th>\n",
       "      <th>Major</th>\n",
       "      <th>Major_category</th>\n",
       "      <th>Total</th>\n",
       "      <th>Employed</th>\n",
       "      <th>Employed_full_time_year_round</th>\n",
       "      <th>Unemployed</th>\n",
       "      <th>Unemployment_rate</th>\n",
       "      <th>Median</th>\n",
       "      <th>P25th</th>\n",
       "      <th>P75th</th>\n",
       "    </tr>\n",
       "  </thead>\n",
       "  <tbody>\n",
       "    <tr>\n",
       "      <th>0</th>\n",
       "      <td>0</td>\n",
       "      <td>1100</td>\n",
       "      <td>GENERAL AGRICULTURE</td>\n",
       "      <td>Agriculture &amp; Natural Resources</td>\n",
       "      <td>128148</td>\n",
       "      <td>90245</td>\n",
       "      <td>74078</td>\n",
       "      <td>2423</td>\n",
       "      <td>0.026147</td>\n",
       "      <td>50000</td>\n",
       "      <td>34000</td>\n",
       "      <td>80000.0</td>\n",
       "    </tr>\n",
       "    <tr>\n",
       "      <th>1</th>\n",
       "      <td>1</td>\n",
       "      <td>1101</td>\n",
       "      <td>AGRICULTURE PRODUCTION AND MANAGEMENT</td>\n",
       "      <td>Agriculture &amp; Natural Resources</td>\n",
       "      <td>95326</td>\n",
       "      <td>76865</td>\n",
       "      <td>64240</td>\n",
       "      <td>2266</td>\n",
       "      <td>0.028636</td>\n",
       "      <td>54000</td>\n",
       "      <td>36000</td>\n",
       "      <td>80000.0</td>\n",
       "    </tr>\n",
       "    <tr>\n",
       "      <th>2</th>\n",
       "      <td>2</td>\n",
       "      <td>1102</td>\n",
       "      <td>AGRICULTURAL ECONOMICS</td>\n",
       "      <td>Agriculture &amp; Natural Resources</td>\n",
       "      <td>33955</td>\n",
       "      <td>26321</td>\n",
       "      <td>22810</td>\n",
       "      <td>821</td>\n",
       "      <td>0.030248</td>\n",
       "      <td>63000</td>\n",
       "      <td>40000</td>\n",
       "      <td>98000.0</td>\n",
       "    </tr>\n",
       "    <tr>\n",
       "      <th>3</th>\n",
       "      <td>3</td>\n",
       "      <td>1103</td>\n",
       "      <td>ANIMAL SCIENCES</td>\n",
       "      <td>Agriculture &amp; Natural Resources</td>\n",
       "      <td>103549</td>\n",
       "      <td>81177</td>\n",
       "      <td>64937</td>\n",
       "      <td>3619</td>\n",
       "      <td>0.042679</td>\n",
       "      <td>46000</td>\n",
       "      <td>30000</td>\n",
       "      <td>72000.0</td>\n",
       "    </tr>\n",
       "    <tr>\n",
       "      <th>4</th>\n",
       "      <td>4</td>\n",
       "      <td>1104</td>\n",
       "      <td>FOOD SCIENCE</td>\n",
       "      <td>Agriculture &amp; Natural Resources</td>\n",
       "      <td>24280</td>\n",
       "      <td>17281</td>\n",
       "      <td>12722</td>\n",
       "      <td>894</td>\n",
       "      <td>0.049188</td>\n",
       "      <td>62000</td>\n",
       "      <td>38500</td>\n",
       "      <td>90000.0</td>\n",
       "    </tr>\n",
       "  </tbody>\n",
       "</table>\n",
       "</div>"
      ],
      "text/plain": [
       "   Unnamed: 0  Major_code                                  Major  \\\n",
       "0           0        1100                    GENERAL AGRICULTURE   \n",
       "1           1        1101  AGRICULTURE PRODUCTION AND MANAGEMENT   \n",
       "2           2        1102                 AGRICULTURAL ECONOMICS   \n",
       "3           3        1103                        ANIMAL SCIENCES   \n",
       "4           4        1104                           FOOD SCIENCE   \n",
       "\n",
       "                    Major_category   Total  Employed  \\\n",
       "0  Agriculture & Natural Resources  128148     90245   \n",
       "1  Agriculture & Natural Resources   95326     76865   \n",
       "2  Agriculture & Natural Resources   33955     26321   \n",
       "3  Agriculture & Natural Resources  103549     81177   \n",
       "4  Agriculture & Natural Resources   24280     17281   \n",
       "\n",
       "   Employed_full_time_year_round  Unemployed  Unemployment_rate  Median  \\\n",
       "0                          74078        2423           0.026147   50000   \n",
       "1                          64240        2266           0.028636   54000   \n",
       "2                          22810         821           0.030248   63000   \n",
       "3                          64937        3619           0.042679   46000   \n",
       "4                          12722         894           0.049188   62000   \n",
       "\n",
       "   P25th    P75th  \n",
       "0  34000  80000.0  \n",
       "1  36000  80000.0  \n",
       "2  40000  98000.0  \n",
       "3  30000  72000.0  \n",
       "4  38500  90000.0  "
      ]
     },
     "execution_count": 45,
     "metadata": {},
     "output_type": "execute_result"
    }
   ],
   "source": [
    "majors = pd.read_csv('./data/college-majors.csv')\n",
    "majors.head()"
   ]
  },
  {
   "cell_type": "code",
   "execution_count": 46,
   "metadata": {
    "collapsed": false
   },
   "outputs": [
    {
     "data": {
      "text/html": [
       "<div>\n",
       "<table border=\"1\" class=\"dataframe\">\n",
       "  <thead>\n",
       "    <tr style=\"text-align: right;\">\n",
       "      <th></th>\n",
       "      <th>Unnamed: 0</th>\n",
       "      <th>Major_code</th>\n",
       "      <th>Total</th>\n",
       "      <th>Employed</th>\n",
       "      <th>Employed_full_time_year_round</th>\n",
       "      <th>Unemployed</th>\n",
       "      <th>Unemployment_rate</th>\n",
       "      <th>Median</th>\n",
       "      <th>P25th</th>\n",
       "      <th>P75th</th>\n",
       "    </tr>\n",
       "  </thead>\n",
       "  <tbody>\n",
       "    <tr>\n",
       "      <th>count</th>\n",
       "      <td>173.000000</td>\n",
       "      <td>173.000000</td>\n",
       "      <td>1.730000e+02</td>\n",
       "      <td>1.730000e+02</td>\n",
       "      <td>1.730000e+02</td>\n",
       "      <td>173.000000</td>\n",
       "      <td>173.000000</td>\n",
       "      <td>173.000000</td>\n",
       "      <td>173.000000</td>\n",
       "      <td>173.000000</td>\n",
       "    </tr>\n",
       "    <tr>\n",
       "      <th>mean</th>\n",
       "      <td>86.000000</td>\n",
       "      <td>3879.815029</td>\n",
       "      <td>2.302566e+05</td>\n",
       "      <td>1.661620e+05</td>\n",
       "      <td>1.263078e+05</td>\n",
       "      <td>9725.034682</td>\n",
       "      <td>0.057355</td>\n",
       "      <td>56816.184971</td>\n",
       "      <td>38697.109827</td>\n",
       "      <td>82506.358382</td>\n",
       "    </tr>\n",
       "    <tr>\n",
       "      <th>std</th>\n",
       "      <td>50.084928</td>\n",
       "      <td>1687.753140</td>\n",
       "      <td>4.220685e+05</td>\n",
       "      <td>3.073244e+05</td>\n",
       "      <td>2.424254e+05</td>\n",
       "      <td>18022.040192</td>\n",
       "      <td>0.019177</td>\n",
       "      <td>14706.226865</td>\n",
       "      <td>9414.524761</td>\n",
       "      <td>20805.330126</td>\n",
       "    </tr>\n",
       "    <tr>\n",
       "      <th>min</th>\n",
       "      <td>0.000000</td>\n",
       "      <td>1100.000000</td>\n",
       "      <td>2.396000e+03</td>\n",
       "      <td>1.492000e+03</td>\n",
       "      <td>1.093000e+03</td>\n",
       "      <td>0.000000</td>\n",
       "      <td>0.000000</td>\n",
       "      <td>35000.000000</td>\n",
       "      <td>24900.000000</td>\n",
       "      <td>45800.000000</td>\n",
       "    </tr>\n",
       "    <tr>\n",
       "      <th>25%</th>\n",
       "      <td>43.000000</td>\n",
       "      <td>2403.000000</td>\n",
       "      <td>2.428000e+04</td>\n",
       "      <td>1.728100e+04</td>\n",
       "      <td>1.272200e+04</td>\n",
       "      <td>1101.000000</td>\n",
       "      <td>0.046261</td>\n",
       "      <td>46000.000000</td>\n",
       "      <td>32000.000000</td>\n",
       "      <td>70000.000000</td>\n",
       "    </tr>\n",
       "    <tr>\n",
       "      <th>50%</th>\n",
       "      <td>86.000000</td>\n",
       "      <td>3608.000000</td>\n",
       "      <td>7.579100e+04</td>\n",
       "      <td>5.656400e+04</td>\n",
       "      <td>3.961300e+04</td>\n",
       "      <td>3619.000000</td>\n",
       "      <td>0.054719</td>\n",
       "      <td>53000.000000</td>\n",
       "      <td>36000.000000</td>\n",
       "      <td>80000.000000</td>\n",
       "    </tr>\n",
       "    <tr>\n",
       "      <th>75%</th>\n",
       "      <td>129.000000</td>\n",
       "      <td>5503.000000</td>\n",
       "      <td>2.057630e+05</td>\n",
       "      <td>1.428790e+05</td>\n",
       "      <td>1.110250e+05</td>\n",
       "      <td>8862.000000</td>\n",
       "      <td>0.069043</td>\n",
       "      <td>65000.000000</td>\n",
       "      <td>42000.000000</td>\n",
       "      <td>95000.000000</td>\n",
       "    </tr>\n",
       "    <tr>\n",
       "      <th>max</th>\n",
       "      <td>172.000000</td>\n",
       "      <td>6403.000000</td>\n",
       "      <td>3.123510e+06</td>\n",
       "      <td>2.354398e+06</td>\n",
       "      <td>1.939384e+06</td>\n",
       "      <td>147261.000000</td>\n",
       "      <td>0.156147</td>\n",
       "      <td>125000.000000</td>\n",
       "      <td>78000.000000</td>\n",
       "      <td>210000.000000</td>\n",
       "    </tr>\n",
       "  </tbody>\n",
       "</table>\n",
       "</div>"
      ],
      "text/plain": [
       "       Unnamed: 0   Major_code         Total      Employed  \\\n",
       "count  173.000000   173.000000  1.730000e+02  1.730000e+02   \n",
       "mean    86.000000  3879.815029  2.302566e+05  1.661620e+05   \n",
       "std     50.084928  1687.753140  4.220685e+05  3.073244e+05   \n",
       "min      0.000000  1100.000000  2.396000e+03  1.492000e+03   \n",
       "25%     43.000000  2403.000000  2.428000e+04  1.728100e+04   \n",
       "50%     86.000000  3608.000000  7.579100e+04  5.656400e+04   \n",
       "75%    129.000000  5503.000000  2.057630e+05  1.428790e+05   \n",
       "max    172.000000  6403.000000  3.123510e+06  2.354398e+06   \n",
       "\n",
       "       Employed_full_time_year_round     Unemployed  Unemployment_rate  \\\n",
       "count                   1.730000e+02     173.000000         173.000000   \n",
       "mean                    1.263078e+05    9725.034682           0.057355   \n",
       "std                     2.424254e+05   18022.040192           0.019177   \n",
       "min                     1.093000e+03       0.000000           0.000000   \n",
       "25%                     1.272200e+04    1101.000000           0.046261   \n",
       "50%                     3.961300e+04    3619.000000           0.054719   \n",
       "75%                     1.110250e+05    8862.000000           0.069043   \n",
       "max                     1.939384e+06  147261.000000           0.156147   \n",
       "\n",
       "              Median         P25th          P75th  \n",
       "count     173.000000    173.000000     173.000000  \n",
       "mean    56816.184971  38697.109827   82506.358382  \n",
       "std     14706.226865   9414.524761   20805.330126  \n",
       "min     35000.000000  24900.000000   45800.000000  \n",
       "25%     46000.000000  32000.000000   70000.000000  \n",
       "50%     53000.000000  36000.000000   80000.000000  \n",
       "75%     65000.000000  42000.000000   95000.000000  \n",
       "max    125000.000000  78000.000000  210000.000000  "
      ]
     },
     "execution_count": 46,
     "metadata": {},
     "output_type": "execute_result"
    }
   ],
   "source": [
    "majors.describe()"
   ]
  },
  {
   "cell_type": "raw",
   "metadata": {},
   "source": []
  },
  {
   "cell_type": "code",
   "execution_count": 47,
   "metadata": {
    "collapsed": false
   },
   "outputs": [
    {
     "name": "stdout",
     "output_type": "stream",
     "text": [
      "<class 'pandas.core.frame.DataFrame'>\n",
      "RangeIndex: 173 entries, 0 to 172\n",
      "Data columns (total 12 columns):\n",
      "Unnamed: 0                       173 non-null int64\n",
      "Major_code                       173 non-null int64\n",
      "Major                            173 non-null object\n",
      "Major_category                   173 non-null object\n",
      "Total                            173 non-null int64\n",
      "Employed                         173 non-null int64\n",
      "Employed_full_time_year_round    173 non-null int64\n",
      "Unemployed                       173 non-null int64\n",
      "Unemployment_rate                173 non-null float64\n",
      "Median                           173 non-null int64\n",
      "P25th                            173 non-null int64\n",
      "P75th                            173 non-null float64\n",
      "dtypes: float64(2), int64(8), object(2)\n",
      "memory usage: 16.3+ KB\n"
     ]
    }
   ],
   "source": [
    "majors.info()"
   ]
  },
  {
   "cell_type": "markdown",
   "metadata": {},
   "source": []
  },
  {
   "cell_type": "code",
   "execution_count": 49,
   "metadata": {
    "collapsed": false
   },
   "outputs": [],
   "source": [
    "# 1. Delete the columns (employed_full_time_year_round, major_code)\n",
    "# majors.drop(['Employed_full_time_year_round', 'Major_code'])"
   ]
  },
  {
   "cell_type": "code",
   "execution_count": 50,
   "metadata": {
    "collapsed": false
   },
   "outputs": [
    {
     "data": {
      "text/plain": [
       "Unnamed: 0                       0\n",
       "Major_code                       0\n",
       "Major                            0\n",
       "Major_category                   0\n",
       "Total                            0\n",
       "Employed                         0\n",
       "Employed_full_time_year_round    0\n",
       "Unemployed                       0\n",
       "Unemployment_rate                0\n",
       "Median                           0\n",
       "P25th                            0\n",
       "P75th                            0\n",
       "dtype: int64"
      ]
     },
     "execution_count": 50,
     "metadata": {},
     "output_type": "execute_result"
    }
   ],
   "source": [
    "# 2. Show the cout of missing values in each column\n",
    "majors.isnull().sum()"
   ]
  },
  {
   "cell_type": "code",
   "execution_count": 51,
   "metadata": {
    "collapsed": false
   },
   "outputs": [
    {
     "data": {
      "text/html": [
       "<div>\n",
       "<table border=\"1\" class=\"dataframe\">\n",
       "  <thead>\n",
       "    <tr style=\"text-align: right;\">\n",
       "      <th></th>\n",
       "      <th>Major</th>\n",
       "      <th>Median</th>\n",
       "    </tr>\n",
       "  </thead>\n",
       "  <tbody>\n",
       "    <tr>\n",
       "      <th>59</th>\n",
       "      <td>PETROLEUM ENGINEERING</td>\n",
       "      <td>125000</td>\n",
       "    </tr>\n",
       "    <tr>\n",
       "      <th>154</th>\n",
       "      <td>PHARMACY PHARMACEUTICAL SCIENCES AND ADMINISTR...</td>\n",
       "      <td>106000</td>\n",
       "    </tr>\n",
       "    <tr>\n",
       "      <th>57</th>\n",
       "      <td>NAVAL ARCHITECTURE AND MARINE ENGINEERING</td>\n",
       "      <td>97000</td>\n",
       "    </tr>\n",
       "    <tr>\n",
       "      <th>55</th>\n",
       "      <td>METALLURGICAL ENGINEERING</td>\n",
       "      <td>96000</td>\n",
       "    </tr>\n",
       "    <tr>\n",
       "      <th>58</th>\n",
       "      <td>NUCLEAR ENGINEERING</td>\n",
       "      <td>95000</td>\n",
       "    </tr>\n",
       "    <tr>\n",
       "      <th>56</th>\n",
       "      <td>MINING AND MINERAL ENGINEERING</td>\n",
       "      <td>92000</td>\n",
       "    </tr>\n",
       "    <tr>\n",
       "      <th>97</th>\n",
       "      <td>MATHEMATICS AND COMPUTER SCIENCE</td>\n",
       "      <td>92000</td>\n",
       "    </tr>\n",
       "    <tr>\n",
       "      <th>48</th>\n",
       "      <td>ELECTRICAL ENGINEERING</td>\n",
       "      <td>88000</td>\n",
       "    </tr>\n",
       "    <tr>\n",
       "      <th>45</th>\n",
       "      <td>CHEMICAL ENGINEERING</td>\n",
       "      <td>86000</td>\n",
       "    </tr>\n",
       "    <tr>\n",
       "      <th>51</th>\n",
       "      <td>GEOLOGICAL AND GEOPHYSICAL ENGINEERING</td>\n",
       "      <td>85000</td>\n",
       "    </tr>\n",
       "  </tbody>\n",
       "</table>\n",
       "</div>"
      ],
      "text/plain": [
       "                                                 Major  Median\n",
       "59                               PETROLEUM ENGINEERING  125000\n",
       "154  PHARMACY PHARMACEUTICAL SCIENCES AND ADMINISTR...  106000\n",
       "57           NAVAL ARCHITECTURE AND MARINE ENGINEERING   97000\n",
       "55                           METALLURGICAL ENGINEERING   96000\n",
       "58                                 NUCLEAR ENGINEERING   95000\n",
       "56                      MINING AND MINERAL ENGINEERING   92000\n",
       "97                    MATHEMATICS AND COMPUTER SCIENCE   92000\n",
       "48                              ELECTRICAL ENGINEERING   88000\n",
       "45                                CHEMICAL ENGINEERING   86000\n",
       "51              GEOLOGICAL AND GEOPHYSICAL ENGINEERING   85000"
      ]
     },
     "execution_count": 51,
     "metadata": {},
     "output_type": "execute_result"
    }
   ],
   "source": [
    "# 3. What are the top 10 highest paying majors?\n",
    "majors[['Major','Median']].sort_values('Median', ascending=False).head(10)"
   ]
  },
  {
   "cell_type": "code",
   "execution_count": 52,
   "metadata": {
    "collapsed": false
   },
   "outputs": [
    {
     "data": {
      "text/plain": [
       "<matplotlib.axes._subplots.AxesSubplot at 0x11a4e5c10>"
      ]
     },
     "execution_count": 52,
     "metadata": {},
     "output_type": "execute_result"
    },
    {
     "data": {
      "image/png": "[encoded data removed]",
      "text/plain": [
       "<matplotlib.figure.Figure at 0x11a4d74d0>"
      ]
     },
     "metadata": {},
     "output_type": "display_data"
    }
   ],
   "source": [
    "# 4. Plot the data from the last question in a bar chart, include proper title, and labels!\n",
    "majors[['Major','Median']].sort_values('Median', ascending=False).head(10).plot.bar()"
   ]
  },
  {
   "cell_type": "code",
   "execution_count": 53,
   "metadata": {
    "collapsed": false
   },
   "outputs": [
    {
     "data": {
      "text/plain": [
       "Major_category\n",
       "Agriculture & Natural Resources        55000.000000\n",
       "Arts                                   43525.000000\n",
       "Biology & Life Science                 50821.428571\n",
       "Business                               60615.384615\n",
       "Communications & Journalism            49500.000000\n",
       "Computers & Mathematics                66272.727273\n",
       "Education                              43831.250000\n",
       "Engineering                            77758.620690\n",
       "Health                                 56458.333333\n",
       "Humanities & Liberal Arts              46080.000000\n",
       "Industrial Arts & Consumer Services    52642.857143\n",
       "Interdisciplinary                      43000.000000\n",
       "Law & Public Policy                    52800.000000\n",
       "Physical Sciences                      62400.000000\n",
       "Psychology & Social Work               44555.555556\n",
       "Social Science                         53222.222222\n",
       "Name: Median, dtype: float64"
      ]
     },
     "execution_count": 53,
     "metadata": {},
     "output_type": "execute_result"
    }
   ],
   "source": [
    "# 5. What is the average median salary for each major category?\n",
    "majors.groupby('Major_category')['Median'].mean()"
   ]
  },
  {
   "cell_type": "code",
   "execution_count": 54,
   "metadata": {
    "collapsed": false
   },
   "outputs": [
    {
     "data": {
      "text/plain": [
       "Major_category\n",
       "Engineering                77758.620690\n",
       "Computers & Mathematics    66272.727273\n",
       "Physical Sciences          62400.000000\n",
       "Business                   60615.384615\n",
       "Health                     56458.333333\n",
       "Name: Median, dtype: float64"
      ]
     },
     "execution_count": 54,
     "metadata": {},
     "output_type": "execute_result"
    }
   ],
   "source": [
    "# 6. Show only the top 5 paying major categories\n",
    "majors.groupby('Major_category')['Median'].mean().sort_values(ascending = False).head(5)"
   ]
  },
  {
   "cell_type": "code",
   "execution_count": 55,
   "metadata": {
    "collapsed": false
   },
   "outputs": [
    {
     "data": {
      "text/plain": [
       "<matplotlib.axes._subplots.AxesSubplot at 0x11a7978d0>"
      ]
     },
     "execution_count": 55,
     "metadata": {},
     "output_type": "execute_result"
    },
    {
     "data": {
      "image/png": "[encoded data removed]",
      "text/plain": [
       "<matplotlib.figure.Figure at 0x11a4d7a90>"
      ]
     },
     "metadata": {},
     "output_type": "display_data"
    }
   ],
   "source": [
    "# 7. Plot a histogram of the distribution of median salaries\n",
    "majors.Median.hist()"
   ]
  },
  {
   "cell_type": "code",
   "execution_count": 56,
   "metadata": {
    "collapsed": false
   },
   "outputs": [
    {
     "data": {
      "text/plain": [
       "Major_category\n",
       "Agriculture & Natural Resources        Axes(0.125,0.125;0.775x0.775)\n",
       "Arts                                   Axes(0.125,0.125;0.775x0.775)\n",
       "Biology & Life Science                 Axes(0.125,0.125;0.775x0.775)\n",
       "Business                               Axes(0.125,0.125;0.775x0.775)\n",
       "Communications & Journalism            Axes(0.125,0.125;0.775x0.775)\n",
       "Computers & Mathematics                Axes(0.125,0.125;0.775x0.775)\n",
       "Education                              Axes(0.125,0.125;0.775x0.775)\n",
       "Engineering                            Axes(0.125,0.125;0.775x0.775)\n",
       "Health                                 Axes(0.125,0.125;0.775x0.775)\n",
       "Humanities & Liberal Arts              Axes(0.125,0.125;0.775x0.775)\n",
       "Industrial Arts & Consumer Services    Axes(0.125,0.125;0.775x0.775)\n",
       "Interdisciplinary                      Axes(0.125,0.125;0.775x0.775)\n",
       "Law & Public Policy                    Axes(0.125,0.125;0.775x0.775)\n",
       "Physical Sciences                      Axes(0.125,0.125;0.775x0.775)\n",
       "Psychology & Social Work               Axes(0.125,0.125;0.775x0.775)\n",
       "Social Science                         Axes(0.125,0.125;0.775x0.775)\n",
       "Name: Median, dtype: object"
      ]
     },
     "execution_count": 56,
     "metadata": {},
     "output_type": "execute_result"
    },
    {
     "data": {
      "image/png": "[encoded data removed]",
      "text/plain": [
       "<matplotlib.figure.Figure at 0x11a8ba910>"
      ]
     },
     "metadata": {},
     "output_type": "display_data"
    }
   ],
   "source": [
    "# 8. Plot a histogram of the distribution of median salaries by major category\n",
    "majors.groupby('Major_category')['Median'].hist()"
   ]
  },
  {
   "cell_type": "code",
   "execution_count": 57,
   "metadata": {
    "collapsed": false
   },
   "outputs": [
    {
     "data": {
      "text/html": [
       "<div>\n",
       "<table border=\"1\" class=\"dataframe\">\n",
       "  <thead>\n",
       "    <tr style=\"text-align: right;\">\n",
       "      <th></th>\n",
       "      <th>Major</th>\n",
       "      <th>Unemployed</th>\n",
       "    </tr>\n",
       "  </thead>\n",
       "  <tbody>\n",
       "    <tr>\n",
       "      <th>161</th>\n",
       "      <td>BUSINESS MANAGEMENT AND ADMINISTRATION</td>\n",
       "      <td>147261</td>\n",
       "    </tr>\n",
       "    <tr>\n",
       "      <th>158</th>\n",
       "      <td>GENERAL BUSINESS</td>\n",
       "      <td>85626</td>\n",
       "    </tr>\n",
       "    <tr>\n",
       "      <th>114</th>\n",
       "      <td>PSYCHOLOGY</td>\n",
       "      <td>79066</td>\n",
       "    </tr>\n",
       "    <tr>\n",
       "      <th>159</th>\n",
       "      <td>ACCOUNTING</td>\n",
       "      <td>75379</td>\n",
       "    </tr>\n",
       "    <tr>\n",
       "      <th>13</th>\n",
       "      <td>COMMUNICATIONS</td>\n",
       "      <td>54390</td>\n",
       "    </tr>\n",
       "    <tr>\n",
       "      <th>73</th>\n",
       "      <td>ENGLISH LANGUAGE AND LITERATURE</td>\n",
       "      <td>52248</td>\n",
       "    </tr>\n",
       "    <tr>\n",
       "      <th>164</th>\n",
       "      <td>MARKETING AND MARKETING RESEARCH</td>\n",
       "      <td>51839</td>\n",
       "    </tr>\n",
       "    <tr>\n",
       "      <th>132</th>\n",
       "      <td>POLITICAL SCIENCE AND GOVERNMENT</td>\n",
       "      <td>40376</td>\n",
       "    </tr>\n",
       "    <tr>\n",
       "      <th>25</th>\n",
       "      <td>GENERAL EDUCATION</td>\n",
       "      <td>38742</td>\n",
       "    </tr>\n",
       "    <tr>\n",
       "      <th>78</th>\n",
       "      <td>BIOLOGY</td>\n",
       "      <td>36757</td>\n",
       "    </tr>\n",
       "  </tbody>\n",
       "</table>\n",
       "</div>"
      ],
      "text/plain": [
       "                                      Major  Unemployed\n",
       "161  BUSINESS MANAGEMENT AND ADMINISTRATION      147261\n",
       "158                        GENERAL BUSINESS       85626\n",
       "114                              PSYCHOLOGY       79066\n",
       "159                              ACCOUNTING       75379\n",
       "13                           COMMUNICATIONS       54390\n",
       "73          ENGLISH LANGUAGE AND LITERATURE       52248\n",
       "164        MARKETING AND MARKETING RESEARCH       51839\n",
       "132        POLITICAL SCIENCE AND GOVERNMENT       40376\n",
       "25                        GENERAL EDUCATION       38742\n",
       "78                                  BIOLOGY       36757"
      ]
     },
     "execution_count": 57,
     "metadata": {},
     "output_type": "execute_result"
    }
   ],
   "source": [
    "# 9. What are the top 10 most UNemployed majors?\n",
    "majors[['Major','Unemployed']].sort_values('Unemployed', ascending=False).head(10)"
   ]
  },
  {
   "cell_type": "code",
   "execution_count": 58,
   "metadata": {
    "collapsed": false,
    "scrolled": true
   },
   "outputs": [
    {
     "data": {
      "text/html": [
       "<div>\n",
       "<table border=\"1\" class=\"dataframe\">\n",
       "  <thead>\n",
       "    <tr style=\"text-align: right;\">\n",
       "      <th></th>\n",
       "      <th>Major</th>\n",
       "      <th>Unemployment_rate</th>\n",
       "    </tr>\n",
       "  </thead>\n",
       "  <tbody>\n",
       "    <tr>\n",
       "      <th>146</th>\n",
       "      <td>MISCELLANEOUS FINE ARTS</td>\n",
       "      <td>0.156147</td>\n",
       "    </tr>\n",
       "    <tr>\n",
       "      <th>116</th>\n",
       "      <td>CLINICAL PSYCHOLOGY</td>\n",
       "      <td>0.102712</td>\n",
       "    </tr>\n",
       "    <tr>\n",
       "      <th>93</th>\n",
       "      <td>MILITARY TECHNOLOGIES</td>\n",
       "      <td>0.101796</td>\n",
       "    </tr>\n",
       "    <tr>\n",
       "      <th>27</th>\n",
       "      <td>SCHOOL STUDENT COUNSELING</td>\n",
       "      <td>0.101746</td>\n",
       "    </tr>\n",
       "    <tr>\n",
       "      <th>77</th>\n",
       "      <td>LIBRARY SCIENCE</td>\n",
       "      <td>0.094843</td>\n",
       "    </tr>\n",
       "    <tr>\n",
       "      <th>141</th>\n",
       "      <td>VISUAL AND PERFORMING ARTS</td>\n",
       "      <td>0.094658</td>\n",
       "    </tr>\n",
       "    <tr>\n",
       "      <th>19</th>\n",
       "      <td>COMPUTER PROGRAMMING AND DATA PROCESSING</td>\n",
       "      <td>0.090264</td>\n",
       "    </tr>\n",
       "    <tr>\n",
       "      <th>119</th>\n",
       "      <td>SOCIAL PSYCHOLOGY</td>\n",
       "      <td>0.087336</td>\n",
       "    </tr>\n",
       "    <tr>\n",
       "      <th>104</th>\n",
       "      <td>ASTRONOMY AND ASTROPHYSICS</td>\n",
       "      <td>0.086022</td>\n",
       "    </tr>\n",
       "    <tr>\n",
       "      <th>11</th>\n",
       "      <td>ARCHITECTURE</td>\n",
       "      <td>0.085991</td>\n",
       "    </tr>\n",
       "  </tbody>\n",
       "</table>\n",
       "</div>"
      ],
      "text/plain": [
       "                                        Major  Unemployment_rate\n",
       "146                   MISCELLANEOUS FINE ARTS           0.156147\n",
       "116                       CLINICAL PSYCHOLOGY           0.102712\n",
       "93                      MILITARY TECHNOLOGIES           0.101796\n",
       "27                  SCHOOL STUDENT COUNSELING           0.101746\n",
       "77                            LIBRARY SCIENCE           0.094843\n",
       "141                VISUAL AND PERFORMING ARTS           0.094658\n",
       "19   COMPUTER PROGRAMMING AND DATA PROCESSING           0.090264\n",
       "119                         SOCIAL PSYCHOLOGY           0.087336\n",
       "104                ASTRONOMY AND ASTROPHYSICS           0.086022\n",
       "11                               ARCHITECTURE           0.085991"
      ]
     },
     "execution_count": 58,
     "metadata": {},
     "output_type": "execute_result"
    }
   ],
   "source": [
    "# What are the unemployment rates?\n",
    "majors[['Major','Unemployment_rate']].sort_values('Unemployment_rate', ascending=False).head(10)"
   ]
  },
  {
   "cell_type": "code",
   "execution_count": 59,
   "metadata": {
    "collapsed": false
   },
   "outputs": [
    {
     "data": {
      "text/plain": [
       "Major_category\n",
       "Business                       33415.153846\n",
       "Communications & Journalism    25299.750000\n",
       "Social Science                 14683.333333\n",
       "Arts                           13015.625000\n",
       "Humanities & Liberal Arts      11942.400000\n",
       "Psychology & Social Work       11578.444444\n",
       "Law & Public Policy             8609.800000\n",
       "Education                       7833.500000\n",
       "Computers & Mathematics         7270.363636\n",
       "Health                          6251.083333\n",
       "Name: Unemployed, dtype: float64"
      ]
     },
     "execution_count": 59,
     "metadata": {},
     "output_type": "execute_result"
    }
   ],
   "source": [
    "# 10. What are the top 10 most UNemployed majors CATEGORIES? Use the mean for each category\n",
    "# What are the unemployment rates?\n",
    "majors.groupby('Major_category')['Unemployed'].mean().sort_values(ascending=False).head(10)"
   ]
  },
  {
   "cell_type": "code",
   "execution_count": 60,
   "metadata": {
    "collapsed": false
   },
   "outputs": [
    {
     "data": {
      "text/plain": [
       "Major_category\n",
       "Arts                                   0.087601\n",
       "Psychology & Social Work               0.077867\n",
       "Interdisciplinary                      0.077269\n",
       "Humanities & Liberal Arts              0.069429\n",
       "Communications & Journalism            0.069125\n",
       "Law & Public Policy                    0.067854\n",
       "Social Science                         0.065686\n",
       "Computers & Mathematics                0.059437\n",
       "Industrial Arts & Consumer Services    0.058546\n",
       "Physical Sciences                      0.054541\n",
       "Name: Unemployment_rate, dtype: float64"
      ]
     },
     "execution_count": 60,
     "metadata": {},
     "output_type": "execute_result"
    }
   ],
   "source": [
    "majors.groupby('Major_category')['Unemployment_rate'].mean().sort_values(ascending=False).head(10)"
   ]
  },
  {
   "cell_type": "code",
   "execution_count": 61,
   "metadata": {
    "collapsed": false
   },
   "outputs": [
    {
     "data": {
      "text/html": [
       "<div>\n",
       "<table border=\"1\" class=\"dataframe\">\n",
       "  <thead>\n",
       "    <tr style=\"text-align: right;\">\n",
       "      <th></th>\n",
       "      <th>Unnamed: 0</th>\n",
       "      <th>Major_code</th>\n",
       "      <th>Major</th>\n",
       "      <th>Major_category</th>\n",
       "      <th>Total</th>\n",
       "      <th>Employed</th>\n",
       "      <th>Employed_full_time_year_round</th>\n",
       "      <th>Unemployed</th>\n",
       "      <th>Unemployment_rate</th>\n",
       "      <th>Median</th>\n",
       "      <th>P25th</th>\n",
       "      <th>P75th</th>\n",
       "      <th>sample_employment_rate</th>\n",
       "    </tr>\n",
       "  </thead>\n",
       "  <tbody>\n",
       "    <tr>\n",
       "      <th>0</th>\n",
       "      <td>0</td>\n",
       "      <td>1100</td>\n",
       "      <td>GENERAL AGRICULTURE</td>\n",
       "      <td>Agriculture &amp; Natural Resources</td>\n",
       "      <td>128148</td>\n",
       "      <td>90245</td>\n",
       "      <td>74078</td>\n",
       "      <td>2423</td>\n",
       "      <td>0.026147</td>\n",
       "      <td>50000</td>\n",
       "      <td>34000</td>\n",
       "      <td>80000.0</td>\n",
       "      <td>0.704225</td>\n",
       "    </tr>\n",
       "    <tr>\n",
       "      <th>1</th>\n",
       "      <td>1</td>\n",
       "      <td>1101</td>\n",
       "      <td>AGRICULTURE PRODUCTION AND MANAGEMENT</td>\n",
       "      <td>Agriculture &amp; Natural Resources</td>\n",
       "      <td>95326</td>\n",
       "      <td>76865</td>\n",
       "      <td>64240</td>\n",
       "      <td>2266</td>\n",
       "      <td>0.028636</td>\n",
       "      <td>54000</td>\n",
       "      <td>36000</td>\n",
       "      <td>80000.0</td>\n",
       "      <td>0.806338</td>\n",
       "    </tr>\n",
       "    <tr>\n",
       "      <th>2</th>\n",
       "      <td>2</td>\n",
       "      <td>1102</td>\n",
       "      <td>AGRICULTURAL ECONOMICS</td>\n",
       "      <td>Agriculture &amp; Natural Resources</td>\n",
       "      <td>33955</td>\n",
       "      <td>26321</td>\n",
       "      <td>22810</td>\n",
       "      <td>821</td>\n",
       "      <td>0.030248</td>\n",
       "      <td>63000</td>\n",
       "      <td>40000</td>\n",
       "      <td>98000.0</td>\n",
       "      <td>0.775173</td>\n",
       "    </tr>\n",
       "    <tr>\n",
       "      <th>3</th>\n",
       "      <td>3</td>\n",
       "      <td>1103</td>\n",
       "      <td>ANIMAL SCIENCES</td>\n",
       "      <td>Agriculture &amp; Natural Resources</td>\n",
       "      <td>103549</td>\n",
       "      <td>81177</td>\n",
       "      <td>64937</td>\n",
       "      <td>3619</td>\n",
       "      <td>0.042679</td>\n",
       "      <td>46000</td>\n",
       "      <td>30000</td>\n",
       "      <td>72000.0</td>\n",
       "      <td>0.783948</td>\n",
       "    </tr>\n",
       "    <tr>\n",
       "      <th>4</th>\n",
       "      <td>4</td>\n",
       "      <td>1104</td>\n",
       "      <td>FOOD SCIENCE</td>\n",
       "      <td>Agriculture &amp; Natural Resources</td>\n",
       "      <td>24280</td>\n",
       "      <td>17281</td>\n",
       "      <td>12722</td>\n",
       "      <td>894</td>\n",
       "      <td>0.049188</td>\n",
       "      <td>62000</td>\n",
       "      <td>38500</td>\n",
       "      <td>90000.0</td>\n",
       "      <td>0.711738</td>\n",
       "    </tr>\n",
       "  </tbody>\n",
       "</table>\n",
       "</div>"
      ],
      "text/plain": [
       "   Unnamed: 0  Major_code                                  Major  \\\n",
       "0           0        1100                    GENERAL AGRICULTURE   \n",
       "1           1        1101  AGRICULTURE PRODUCTION AND MANAGEMENT   \n",
       "2           2        1102                 AGRICULTURAL ECONOMICS   \n",
       "3           3        1103                        ANIMAL SCIENCES   \n",
       "4           4        1104                           FOOD SCIENCE   \n",
       "\n",
       "                    Major_category   Total  Employed  \\\n",
       "0  Agriculture & Natural Resources  128148     90245   \n",
       "1  Agriculture & Natural Resources   95326     76865   \n",
       "2  Agriculture & Natural Resources   33955     26321   \n",
       "3  Agriculture & Natural Resources  103549     81177   \n",
       "4  Agriculture & Natural Resources   24280     17281   \n",
       "\n",
       "   Employed_full_time_year_round  Unemployed  Unemployment_rate  Median  \\\n",
       "0                          74078        2423           0.026147   50000   \n",
       "1                          64240        2266           0.028636   54000   \n",
       "2                          22810         821           0.030248   63000   \n",
       "3                          64937        3619           0.042679   46000   \n",
       "4                          12722         894           0.049188   62000   \n",
       "\n",
       "   P25th    P75th  sample_employment_rate  \n",
       "0  34000  80000.0                0.704225  \n",
       "1  36000  80000.0                0.806338  \n",
       "2  40000  98000.0                0.775173  \n",
       "3  30000  72000.0                0.783948  \n",
       "4  38500  90000.0                0.711738  "
      ]
     },
     "execution_count": 61,
     "metadata": {},
     "output_type": "execute_result"
    }
   ],
   "source": [
    "# 11. the total and employed column refer to the people that were surveyed.\n",
    "# Create a new column showing the emlpoyment rate of the people surveyed for each major\n",
    "# call it \"sample_employment_rate\"\n",
    "# Example the first row has total: 128148 and employed: 90245. it's \n",
    "# sample_employment_rate should be 90245.0 / 128148.0 = .7042\n",
    "majors['sample_employment_rate'] = majors.Employed / majors.Total\n",
    "majors.head()"
   ]
  },
  {
   "cell_type": "code",
   "execution_count": 62,
   "metadata": {
    "collapsed": false
   },
   "outputs": [
    {
     "data": {
      "text/html": [
       "<div>\n",
       "<table border=\"1\" class=\"dataframe\">\n",
       "  <thead>\n",
       "    <tr style=\"text-align: right;\">\n",
       "      <th></th>\n",
       "      <th>Unnamed: 0</th>\n",
       "      <th>Major_code</th>\n",
       "      <th>Major</th>\n",
       "      <th>Major_category</th>\n",
       "      <th>Total</th>\n",
       "      <th>Employed</th>\n",
       "      <th>Employed_full_time_year_round</th>\n",
       "      <th>Unemployed</th>\n",
       "      <th>Unemployment_rate</th>\n",
       "      <th>Median</th>\n",
       "      <th>P25th</th>\n",
       "      <th>P75th</th>\n",
       "      <th>sample_employment_rate</th>\n",
       "      <th>sample_unemployment_rate</th>\n",
       "    </tr>\n",
       "  </thead>\n",
       "  <tbody>\n",
       "    <tr>\n",
       "      <th>0</th>\n",
       "      <td>0</td>\n",
       "      <td>1100</td>\n",
       "      <td>GENERAL AGRICULTURE</td>\n",
       "      <td>Agriculture &amp; Natural Resources</td>\n",
       "      <td>128148</td>\n",
       "      <td>90245</td>\n",
       "      <td>74078</td>\n",
       "      <td>2423</td>\n",
       "      <td>0.026147</td>\n",
       "      <td>50000</td>\n",
       "      <td>34000</td>\n",
       "      <td>80000.0</td>\n",
       "      <td>0.704225</td>\n",
       "      <td>0.295775</td>\n",
       "    </tr>\n",
       "    <tr>\n",
       "      <th>1</th>\n",
       "      <td>1</td>\n",
       "      <td>1101</td>\n",
       "      <td>AGRICULTURE PRODUCTION AND MANAGEMENT</td>\n",
       "      <td>Agriculture &amp; Natural Resources</td>\n",
       "      <td>95326</td>\n",
       "      <td>76865</td>\n",
       "      <td>64240</td>\n",
       "      <td>2266</td>\n",
       "      <td>0.028636</td>\n",
       "      <td>54000</td>\n",
       "      <td>36000</td>\n",
       "      <td>80000.0</td>\n",
       "      <td>0.806338</td>\n",
       "      <td>0.193662</td>\n",
       "    </tr>\n",
       "    <tr>\n",
       "      <th>2</th>\n",
       "      <td>2</td>\n",
       "      <td>1102</td>\n",
       "      <td>AGRICULTURAL ECONOMICS</td>\n",
       "      <td>Agriculture &amp; Natural Resources</td>\n",
       "      <td>33955</td>\n",
       "      <td>26321</td>\n",
       "      <td>22810</td>\n",
       "      <td>821</td>\n",
       "      <td>0.030248</td>\n",
       "      <td>63000</td>\n",
       "      <td>40000</td>\n",
       "      <td>98000.0</td>\n",
       "      <td>0.775173</td>\n",
       "      <td>0.224827</td>\n",
       "    </tr>\n",
       "    <tr>\n",
       "      <th>3</th>\n",
       "      <td>3</td>\n",
       "      <td>1103</td>\n",
       "      <td>ANIMAL SCIENCES</td>\n",
       "      <td>Agriculture &amp; Natural Resources</td>\n",
       "      <td>103549</td>\n",
       "      <td>81177</td>\n",
       "      <td>64937</td>\n",
       "      <td>3619</td>\n",
       "      <td>0.042679</td>\n",
       "      <td>46000</td>\n",
       "      <td>30000</td>\n",
       "      <td>72000.0</td>\n",
       "      <td>0.783948</td>\n",
       "      <td>0.216052</td>\n",
       "    </tr>\n",
       "    <tr>\n",
       "      <th>4</th>\n",
       "      <td>4</td>\n",
       "      <td>1104</td>\n",
       "      <td>FOOD SCIENCE</td>\n",
       "      <td>Agriculture &amp; Natural Resources</td>\n",
       "      <td>24280</td>\n",
       "      <td>17281</td>\n",
       "      <td>12722</td>\n",
       "      <td>894</td>\n",
       "      <td>0.049188</td>\n",
       "      <td>62000</td>\n",
       "      <td>38500</td>\n",
       "      <td>90000.0</td>\n",
       "      <td>0.711738</td>\n",
       "      <td>0.288262</td>\n",
       "    </tr>\n",
       "  </tbody>\n",
       "</table>\n",
       "</div>"
      ],
      "text/plain": [
       "   Unnamed: 0  Major_code                                  Major  \\\n",
       "0           0        1100                    GENERAL AGRICULTURE   \n",
       "1           1        1101  AGRICULTURE PRODUCTION AND MANAGEMENT   \n",
       "2           2        1102                 AGRICULTURAL ECONOMICS   \n",
       "3           3        1103                        ANIMAL SCIENCES   \n",
       "4           4        1104                           FOOD SCIENCE   \n",
       "\n",
       "                    Major_category   Total  Employed  \\\n",
       "0  Agriculture & Natural Resources  128148     90245   \n",
       "1  Agriculture & Natural Resources   95326     76865   \n",
       "2  Agriculture & Natural Resources   33955     26321   \n",
       "3  Agriculture & Natural Resources  103549     81177   \n",
       "4  Agriculture & Natural Resources   24280     17281   \n",
       "\n",
       "   Employed_full_time_year_round  Unemployed  Unemployment_rate  Median  \\\n",
       "0                          74078        2423           0.026147   50000   \n",
       "1                          64240        2266           0.028636   54000   \n",
       "2                          22810         821           0.030248   63000   \n",
       "3                          64937        3619           0.042679   46000   \n",
       "4                          12722         894           0.049188   62000   \n",
       "\n",
       "   P25th    P75th  sample_employment_rate  sample_unemployment_rate  \n",
       "0  34000  80000.0                0.704225                  0.295775  \n",
       "1  36000  80000.0                0.806338                  0.193662  \n",
       "2  40000  98000.0                0.775173                  0.224827  \n",
       "3  30000  72000.0                0.783948                  0.216052  \n",
       "4  38500  90000.0                0.711738                  0.288262  "
      ]
     },
     "execution_count": 62,
     "metadata": {},
     "output_type": "execute_result"
    }
   ],
   "source": [
    "# 12. Create a \"sample_unemployment_rate\" column\n",
    "# this column should be 1 - \"sample_employment_rate\"\n",
    "majors['sample_unemployment_rate'] = 1 - majors['sample_employment_rate']\n",
    "majors.head()"
   ]
  },
  {
   "cell_type": "code",
   "execution_count": null,
   "metadata": {
    "collapsed": true
   },
   "outputs": [],
   "source": []
  },
  {
   "cell_type": "code",
   "execution_count": null,
   "metadata": {
    "collapsed": true
   },
   "outputs": [],
   "source": []
  },
  {
   "cell_type": "code",
   "execution_count": null,
   "metadata": {
    "collapsed": true
   },
   "outputs": [],
   "source": []
  },
  {
   "cell_type": "code",
   "execution_count": null,
   "metadata": {
    "collapsed": true
   },
   "outputs": [],
   "source": []
  },
  {
   "cell_type": "code",
   "execution_count": null,
   "metadata": {
    "collapsed": true
   },
   "outputs": [],
   "source": []
  }
 ],
 "metadata": {
  "anaconda-cloud": {},
  "kernelspec": {
   "display_name": "Python [Root]",
   "language": "python",
   "name": "Python [Root]"
  },
  "language_info": {
   "codemirror_mode": {
    "name": "ipython",
    "version": 2
   },
   "file_extension": ".py",
   "mimetype": "text/x-python",
   "name": "python",
   "nbconvert_exporter": "python",
   "pygments_lexer": "ipython2",
   "version": "2.7.12"
  }
 },
 "nbformat": 4,
 "nbformat_minor": 0
}
